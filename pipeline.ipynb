{
 "cells": [
  {
   "cell_type": "code",
   "execution_count": 2,
   "metadata": {},
   "outputs": [
    {
     "name": "stderr",
     "output_type": "stream",
     "text": [
      "/root/miniconda3/envs/myconda/lib/python3.8/site-packages/tqdm/auto.py:21: TqdmWarning: IProgress not found. Please update jupyter and ipywidgets. See https://ipywidgets.readthedocs.io/en/stable/user_install.html\n",
      "  from .autonotebook import tqdm as notebook_tqdm\n"
     ]
    }
   ],
   "source": [
    "from importlib import reload\n",
    "from model import *\n",
    "from train import *\n",
    "from dataloader import *\n",
    "import dataloader as _D\n",
    "reload(_D)\n",
    "import utils as _U\n",
    "reload(_U)\n",
    "from collections import OrderedDict\n",
    "import yaml"
   ]
  },
  {
   "attachments": {},
   "cell_type": "markdown",
   "metadata": {},
   "source": [
    "## Training Settings"
   ]
  },
  {
   "cell_type": "code",
   "execution_count": 3,
   "metadata": {},
   "outputs": [],
   "source": [
    "with open('configs/I20R5/I20R5_09-11.yml', 'r') as f:\n",
    "    setting = _U.Dict2ObjParser(yaml.safe_load(f)).parse()"
   ]
  },
  {
   "cell_type": "code",
   "execution_count": 4,
   "metadata": {},
   "outputs": [],
   "source": [
    "if 'models' not in os.listdir('./'):\n",
    "    os.system('mkdir models')\n",
    "if setting.TRAIN.MODEL_SAVE_FILE.split('/')[1] not in os.listdir('./models/'):\n",
    "    os.system(f\"cd models && mkdir {setting.TRAIN.MODEL_SAVE_FILE.split('/')[1]}\")\n",
    "if 'logs' not in os.listdir('./'):\n",
    "    os.system('mkdir logs')\n",
    "if setting.TRAIN.LOG_SAVE_FILE.split('/')[1] not in os.listdir('./logs/'):\n",
    "    os.system(f\"cd logs && mkdir {setting.TRAIN.LOG_SAVE_FILE.split('/')[1]}\")"
   ]
  },
  {
   "attachments": {},
   "cell_type": "markdown",
   "metadata": {},
   "source": [
    "## Train & Valid"
   ]
  },
  {
   "attachments": {},
   "cell_type": "markdown",
   "metadata": {},
   "source": [
    "### Dataset Preparation"
   ]
  },
  {
   "cell_type": "code",
   "execution_count": 4,
   "metadata": {},
   "outputs": [
    {
     "name": "stdout",
     "output_type": "stream",
     "text": [
      "[Load Data] | 2023-04-20 04:01:34 Done | Using  7.530 seconds\n",
      "DataSet Initialized\n",
      " \t - Mode:         DEFAULT\n",
      " \t - Image Size:   (64, 60)\n",
      " \t - Time Period:  20091231 - 20111231\n",
      " \t - Indicators:   [('MA', ['20'])]\n",
      " \t - Volume Shown: True\n"
     ]
    }
   ],
   "source": [
    "train_dataset = _D.ImageDataSet(win_size = setting.DATASET.LOOKBACK_WIN, \\\n",
    "                            start_date = setting.DATASET.START_DATE, \\\n",
    "                            end_date = setting.DATASET.END_DATE, \\\n",
    "                            mode = setting.DATASET.MODE, \\\n",
    "                            indicators = setting.DATASET.INDICATORS, \\\n",
    "                            show_volume = setting.DATASET.SHOW_VOLUME, \\\n",
    "                            parallel_num=setting.DATASET.PARALLEL_NUM)"
   ]
  },
  {
   "cell_type": "code",
   "execution_count": 5,
   "metadata": {},
   "outputs": [
    {
     "name": "stderr",
     "output_type": "stream",
     "text": [
      "Generating Images (sample rate: 0.2): 100%|██████████| 2283/2283 [15:58<00:00,  2.38it/s]\n"
     ]
    }
   ],
   "source": [
    "image_set = train_dataset.generate_images(setting.DATASET.SAMPLE_RATE)"
   ]
  },
  {
   "cell_type": "code",
   "execution_count": 6,
   "metadata": {},
   "outputs": [
    {
     "data": {
      "text/plain": [
       "176083"
      ]
     },
     "execution_count": 6,
     "metadata": {},
     "output_type": "execute_result"
    }
   ],
   "source": [
    "len(image_set)"
   ]
  },
  {
   "cell_type": "code",
   "execution_count": 7,
   "metadata": {},
   "outputs": [
    {
     "data": {
      "image/png": "[encoded data removed]",
      "text/plain": [
       "<Figure size 432x288 with 1 Axes>"
      ]
     },
     "metadata": {
      "needs_background": "light"
     },
     "output_type": "display_data"
    }
   ],
   "source": [
    "# preview of the \"image\" (np.array)\n",
    "display_image(image_set[69])"
   ]
  },
  {
   "cell_type": "code",
   "execution_count": 8,
   "metadata": {},
   "outputs": [],
   "source": [
    "train_loader_size = int(len(image_set)*(1-setting.TRAIN.VALID_RATIO))\n",
    "valid_loader_size = len(image_set) - train_loader_size\n",
    "\n",
    "train_loader, valid_loader = torch.utils.data.random_split(image_set, [train_loader_size, valid_loader_size])\n",
    "train_loader = torch.utils.data.DataLoader(dataset=train_loader, batch_size=setting.TRAIN.BATCH_SIZE, shuffle=True)\n",
    "valid_loader = torch.utils.data.DataLoader(dataset=valid_loader, batch_size=setting.TRAIN.BATCH_SIZE, shuffle=True)"
   ]
  },
  {
   "attachments": {},
   "cell_type": "markdown",
   "metadata": {},
   "source": [
    "### Model Structure"
   ]
  },
  {
   "cell_type": "code",
   "execution_count": 9,
   "metadata": {},
   "outputs": [
    {
     "data": {
      "text/plain": [
       "CNN20d(\n",
       "  (conv1): Sequential(\n",
       "    (Conv): Conv2d(1, 64, kernel_size=(5, 3), stride=(3, 1), padding=(3, 1), dilation=(2, 1))\n",
       "    (BN): BatchNorm2d(64, eps=1e-05, momentum=0.1, affine=True, track_running_stats=True)\n",
       "    (ReLU): ReLU()\n",
       "    (Max-Pool): MaxPool2d(kernel_size=(2, 1), stride=(2, 1), padding=0, dilation=1, ceil_mode=False)\n",
       "  )\n",
       "  (conv2): Sequential(\n",
       "    (Conv): Conv2d(64, 128, kernel_size=(5, 3), stride=(1, 1), padding=(3, 1))\n",
       "    (BN): BatchNorm2d(128, eps=1e-05, momentum=0.1, affine=True, track_running_stats=True)\n",
       "    (ReLU): ReLU()\n",
       "    (Max-Pool): MaxPool2d(kernel_size=(2, 1), stride=(2, 1), padding=0, dilation=1, ceil_mode=False)\n",
       "  )\n",
       "  (conv3): Sequential(\n",
       "    (Conv): Conv2d(128, 256, kernel_size=(5, 3), stride=(1, 1), padding=(2, 1))\n",
       "    (BN): BatchNorm2d(256, eps=1e-05, momentum=0.1, affine=True, track_running_stats=True)\n",
       "    (ReLU): ReLU()\n",
       "    (Max-Pool): MaxPool2d(kernel_size=(2, 1), stride=(2, 1), padding=0, dilation=1, ceil_mode=False)\n",
       "  )\n",
       "  (DropOut): Dropout(p=0.5, inplace=False)\n",
       "  (FC): Linear(in_features=46080, out_features=2, bias=True)\n",
       "  (Softmax): Softmax(dim=1)\n",
       ")"
      ]
     },
     "execution_count": 9,
     "metadata": {},
     "output_type": "execute_result"
    }
   ],
   "source": [
    "model_d20 = CNN20d()\n",
    "model_d20.to(device)"
   ]
  },
  {
   "attachments": {},
   "cell_type": "markdown",
   "metadata": {},
   "source": [
    "### Training Process"
   ]
  },
  {
   "cell_type": "code",
   "execution_count": 10,
   "metadata": {},
   "outputs": [],
   "source": [
    "criterion = nn.BCELoss()\n",
    "optimizer = optim.Adam(model_d20.parameters(), lr=setting.TRAIN.LEARNING_RATE, weight_decay=setting.TRAIN.WEIGHT_DECAY)"
   ]
  },
  {
   "cell_type": "code",
   "execution_count": 11,
   "metadata": {},
   "outputs": [
    {
     "name": "stdout",
     "output_type": "stream",
     "text": [
      "Epoch: 1 Training Loss: 1.036574 Validation Loss: 0.725793 Training Acc: 0.51146 Validation Acc: 0.54264\n",
      "Validation loss decreased (inf --> 0.725793).  Saving model ...\n",
      "Epoch: 2 Training Loss: 0.955404 Validation Loss: 0.708836 Training Acc: 0.52468 Validation Acc: 0.55565\n",
      "Validation loss decreased (0.725793 --> 0.708836).  Saving model ...\n",
      "Epoch: 3 Training Loss: 0.902153 Validation Loss: 0.699022 Training Acc: 0.53001 Validation Acc: 0.56119\n",
      "Validation loss decreased (0.708836 --> 0.699022).  Saving model ...\n",
      "Epoch: 4 Training Loss: 0.858724 Validation Loss: 0.691440 Training Acc: 0.53833 Validation Acc: 0.56318\n",
      "Validation loss decreased (0.699022 --> 0.691440).  Saving model ...\n",
      "Epoch: 5 Training Loss: 0.828780 Validation Loss: 0.691435 Training Acc: 0.54060 Validation Acc: 0.56475\n",
      "Validation loss decreased (0.691440 --> 0.691435).  Saving model ...\n",
      "Epoch: 6 Training Loss: 0.803340 Validation Loss: 0.683719 Training Acc: 0.54440 Validation Acc: 0.56750\n",
      "Validation loss decreased (0.691435 --> 0.683719).  Saving model ...\n",
      "Epoch: 7 Training Loss: 0.780971 Validation Loss: 0.684646 Training Acc: 0.54975 Validation Acc: 0.56810\n",
      "Epoch: 8 Training Loss: 0.762415 Validation Loss: 0.679544 Training Acc: 0.55270 Validation Acc: 0.57382\n",
      "Validation loss decreased (0.683719 --> 0.679544).  Saving model ...\n",
      "Epoch: 9 Training Loss: 0.746957 Validation Loss: 0.684513 Training Acc: 0.55843 Validation Acc: 0.57221\n",
      "Epoch: 10 Training Loss: 0.733887 Validation Loss: 0.680068 Training Acc: 0.56232 Validation Acc: 0.57609\n",
      "Epoch: 11 Training Loss: 0.722328 Validation Loss: 0.682872 Training Acc: 0.56728 Validation Acc: 0.57318\n",
      "Epoch: 12 Training Loss: 0.710843 Validation Loss: 0.679735 Training Acc: 0.57430 Validation Acc: 0.57603\n",
      "Epoch: 13 Training Loss: 0.702209 Validation Loss: 0.731516 Training Acc: 0.57742 Validation Acc: 0.54304\n",
      "Epoch: 14 Training Loss: 0.694920 Validation Loss: 0.674155 Training Acc: 0.58191 Validation Acc: 0.58073\n",
      "Validation loss decreased (0.679544 --> 0.674155).  Saving model ...\n",
      "Epoch: 15 Training Loss: 0.686181 Validation Loss: 0.674056 Training Acc: 0.58906 Validation Acc: 0.58058\n",
      "Validation loss decreased (0.674155 --> 0.674056).  Saving model ...\n",
      "Epoch: 16 Training Loss: 0.681302 Validation Loss: 0.673710 Training Acc: 0.59306 Validation Acc: 0.58416\n",
      "Validation loss decreased (0.674056 --> 0.673710).  Saving model ...\n",
      "Epoch: 17 Training Loss: 0.674995 Validation Loss: 0.673862 Training Acc: 0.59817 Validation Acc: 0.57978\n",
      "Epoch: 18 Training Loss: 0.667249 Validation Loss: 0.672236 Training Acc: 0.60525 Validation Acc: 0.58658\n",
      "Validation loss decreased (0.673710 --> 0.672236).  Saving model ...\n",
      "Epoch: 19 Training Loss: 0.663304 Validation Loss: 0.673046 Training Acc: 0.60757 Validation Acc: 0.58097\n",
      "Epoch: 20 Training Loss: 0.657645 Validation Loss: 0.678038 Training Acc: 0.61277 Validation Acc: 0.58241\n",
      "Epoch: 21 Training Loss: 0.653317 Validation Loss: 0.683187 Training Acc: 0.61704 Validation Acc: 0.57762\n",
      "Epoch: 22 Training Loss: 0.648718 Validation Loss: 0.673870 Training Acc: 0.62308 Validation Acc: 0.58595\n",
      "Epoch: 23 Training Loss: 0.644420 Validation Loss: 0.673523 Training Acc: 0.62706 Validation Acc: 0.58224\n",
      "Epoch: 24 Training Loss: 0.640294 Validation Loss: 0.671322 Training Acc: 0.63347 Validation Acc: 0.58805\n",
      "Validation loss decreased (0.672236 --> 0.671322).  Saving model ...\n",
      "Epoch: 25 Training Loss: 0.636481 Validation Loss: 0.671428 Training Acc: 0.63504 Validation Acc: 0.58548\n",
      "Epoch: 26 Training Loss: 0.632529 Validation Loss: 0.671087 Training Acc: 0.63937 Validation Acc: 0.58537\n",
      "Validation loss decreased (0.671322 --> 0.671087).  Saving model ...\n",
      "Epoch: 27 Training Loss: 0.627248 Validation Loss: 0.674282 Training Acc: 0.64582 Validation Acc: 0.58198\n",
      "Epoch: 28 Training Loss: 0.623614 Validation Loss: 0.674361 Training Acc: 0.65115 Validation Acc: 0.58847\n",
      "Epoch: 29 Training Loss: 0.618727 Validation Loss: 0.671076 Training Acc: 0.65646 Validation Acc: 0.59148\n",
      "Validation loss decreased (0.671087 --> 0.671076).  Saving model ...\n",
      "Epoch: 30 Training Loss: 0.615689 Validation Loss: 0.671778 Training Acc: 0.65911 Validation Acc: 0.58881\n",
      "Epoch: 31 Training Loss: 0.609620 Validation Loss: 0.674110 Training Acc: 0.66534 Validation Acc: 0.58400\n",
      "Epoch: 32 Training Loss: 0.606192 Validation Loss: 0.673195 Training Acc: 0.66912 Validation Acc: 0.58739\n",
      "Epoch: 33 Training Loss: 0.603862 Validation Loss: 0.674392 Training Acc: 0.67050 Validation Acc: 0.58540\n",
      "Epoch: 34 Training Loss: 0.598406 Validation Loss: 0.672478 Training Acc: 0.67479 Validation Acc: 0.59035\n",
      "Epoch: 35 Training Loss: 0.595153 Validation Loss: 0.680761 Training Acc: 0.67919 Validation Acc: 0.57776\n",
      "Epoch: 36 Training Loss: 0.590285 Validation Loss: 0.672766 Training Acc: 0.68535 Validation Acc: 0.59076\n",
      "Epoch: 37 Training Loss: 0.586637 Validation Loss: 0.676674 Training Acc: 0.68778 Validation Acc: 0.58779\n",
      "Epoch: 38 Training Loss: 0.583088 Validation Loss: 0.675636 Training Acc: 0.69008 Validation Acc: 0.58705\n",
      "Epoch: 39 Training Loss: 0.577732 Validation Loss: 0.675523 Training Acc: 0.69712 Validation Acc: 0.58900\n",
      "Epoch: 40 Training Loss: 0.575195 Validation Loss: 0.680493 Training Acc: 0.69884 Validation Acc: 0.59016\n",
      "Epoch: 41 Training Loss: 0.568875 Validation Loss: 0.678497 Training Acc: 0.70315 Validation Acc: 0.58894\n",
      "Epoch: 42 Training Loss: 0.565598 Validation Loss: 0.676912 Training Acc: 0.70580 Validation Acc: 0.59059\n",
      "Epoch: 43 Training Loss: 0.561222 Validation Loss: 0.681935 Training Acc: 0.71093 Validation Acc: 0.58684\n",
      "Epoch: 44 Training Loss: 0.558036 Validation Loss: 0.694651 Training Acc: 0.71408 Validation Acc: 0.58504\n",
      "Epoch: 45 Training Loss: 0.554091 Validation Loss: 0.683380 Training Acc: 0.71530 Validation Acc: 0.58934\n",
      "Early Stop at Epoch [45]: Performance hasn't enhanced for 16 epochs\n"
     ]
    }
   ],
   "source": [
    "train_loss_set, valid_loss_set, train_acc_set, valid_acc_set = train_n_epochs(setting.TRAIN.NEPOCH, model_d20, setting.TRAIN.LABEL, train_loader, valid_loader, criterion, optimizer, setting.TRAIN.MODEL_SAVE_FILE, setting.TRAIN.EARLY_STOP_EPOCH)"
   ]
  },
  {
   "cell_type": "code",
   "execution_count": null,
   "metadata": {},
   "outputs": [],
   "source": [
    "plot_loss_and_acc({\"temp train\": [train_loss_set, train_acc_set], \\\n",
    "                    \"temp valid\": [valid_loss_set, valid_acc_set]})"
   ]
  },
  {
   "cell_type": "code",
   "execution_count": 13,
   "metadata": {},
   "outputs": [],
   "source": [
    "log = pd.DataFrame([train_loss_set, train_acc_set, valid_loss_set, valid_acc_set], index=['train_loss', 'train_acc', 'valid_loss', 'valid_acc'])\n",
    "log.to_csv(setting.TRAIN.LOG_SAVE_FILE)"
   ]
  },
  {
   "cell_type": "code",
   "execution_count": 14,
   "metadata": {},
   "outputs": [],
   "source": [
    "logs = pd.read_csv(setting.TRAIN.LOG_SAVE_FILE, index_col=0).T"
   ]
  },
  {
   "cell_type": "code",
   "execution_count": 15,
   "metadata": {},
   "outputs": [
    {
     "data": {
      "image/png": "[encoded data removed]",
      "text/plain": [
       "<Figure size 1440x432 with 2 Axes>"
      ]
     },
     "metadata": {
      "needs_background": "light"
     },
     "output_type": "display_data"
    },
    {
     "ename": "",
     "evalue": "",
     "output_type": "error",
     "traceback": [
      "\u001b[1;31m在当前单元格或上一个单元格中执行代码时 Kernel 崩溃。请查看单元格中的代码，以确定故障的可能原因。有关详细信息，请单击 <a href='https://aka.ms/vscodeJupyterKernelCrash'>此处</a>。有关更多详细信息，请查看 Jupyter <a href='command:jupyter.viewOutput'>log</a>。"
     ]
    }
   ],
   "source": [
    "plot_loss_and_acc({\"train\": [logs['train_loss'], logs['train_acc']], \\\n",
    "                    \"valid\": [logs['valid_loss'], logs['valid_acc']]})"
   ]
  },
  {
   "attachments": {},
   "cell_type": "markdown",
   "metadata": {},
   "source": [
    "## Test"
   ]
  },
  {
   "attachments": {},
   "cell_type": "markdown",
   "metadata": {},
   "source": [
    "### Dataset Preparation"
   ]
  },
  {
   "cell_type": "code",
   "execution_count": 5,
   "metadata": {},
   "outputs": [
    {
     "name": "stdout",
     "output_type": "stream",
     "text": [
      "[Load Data] | 2023-04-20 07:21:33 Done | Using  8.754 seconds\n",
      "DataSet Initialized\n",
      " \t - Mode:         DEFAULT\n",
      " \t - Image Size:   (64, 60)\n",
      " \t - Time Period:  20111231 - 20121231\n",
      " \t - Indicators:   [('MA', ['20'])]\n",
      " \t - Volume Shown: True\n"
     ]
    }
   ],
   "source": [
    "test_dataset = _D.ImageDataSet(win_size = setting.DATASET.LOOKBACK_WIN, \\\n",
    "                            start_date = setting.TEST.START_DATE, \\\n",
    "                            end_date = setting.TEST.END_DATE, \\\n",
    "                            mode = setting.DATASET.MODE, \\\n",
    "                            indicators = setting.DATASET.INDICATORS, \\\n",
    "                            show_volume = setting.DATASET.SHOW_VOLUME, \\\n",
    "                            parallel_num=setting.DATASET.PARALLEL_NUM)"
   ]
  },
  {
   "cell_type": "code",
   "execution_count": 6,
   "metadata": {},
   "outputs": [
    {
     "name": "stderr",
     "output_type": "stream",
     "text": [
      "Generating Images (sample rate: 0.2): 100%|██████████| 2458/2458 [10:38<00:00,  3.85it/s]\n"
     ]
    }
   ],
   "source": [
    "test_imageset = test_dataset.generate_images(setting.TEST.SAMPLE_RATE)"
   ]
  },
  {
   "cell_type": "code",
   "execution_count": 7,
   "metadata": {},
   "outputs": [
    {
     "data": {
      "text/plain": [
       "111311"
      ]
     },
     "execution_count": 7,
     "metadata": {},
     "output_type": "execute_result"
    }
   ],
   "source": [
    "len(test_imageset)"
   ]
  },
  {
   "cell_type": "code",
   "execution_count": 12,
   "metadata": {},
   "outputs": [],
   "source": [
    "test_loader = torch.utils.data.DataLoader(dataset=test_imageset, batch_size=setting.TRAIN.BATCH_SIZE, shuffle=False)"
   ]
  },
  {
   "attachments": {},
   "cell_type": "markdown",
   "metadata": {},
   "source": [
    "### Load Model"
   ]
  },
  {
   "cell_type": "code",
   "execution_count": 8,
   "metadata": {},
   "outputs": [
    {
     "data": {
      "text/plain": [
       "CNN20d(\n",
       "  (conv1): Sequential(\n",
       "    (Conv): Conv2d(1, 64, kernel_size=(5, 3), stride=(3, 1), padding=(3, 1), dilation=(2, 1))\n",
       "    (BN): BatchNorm2d(64, eps=1e-05, momentum=0.1, affine=True, track_running_stats=True)\n",
       "    (ReLU): ReLU()\n",
       "    (Max-Pool): MaxPool2d(kernel_size=(2, 1), stride=(2, 1), padding=0, dilation=1, ceil_mode=False)\n",
       "  )\n",
       "  (conv2): Sequential(\n",
       "    (Conv): Conv2d(64, 128, kernel_size=(5, 3), stride=(1, 1), padding=(3, 1))\n",
       "    (BN): BatchNorm2d(128, eps=1e-05, momentum=0.1, affine=True, track_running_stats=True)\n",
       "    (ReLU): ReLU()\n",
       "    (Max-Pool): MaxPool2d(kernel_size=(2, 1), stride=(2, 1), padding=0, dilation=1, ceil_mode=False)\n",
       "  )\n",
       "  (conv3): Sequential(\n",
       "    (Conv): Conv2d(128, 256, kernel_size=(5, 3), stride=(1, 1), padding=(2, 1))\n",
       "    (BN): BatchNorm2d(256, eps=1e-05, momentum=0.1, affine=True, track_running_stats=True)\n",
       "    (ReLU): ReLU()\n",
       "    (Max-Pool): MaxPool2d(kernel_size=(2, 1), stride=(2, 1), padding=0, dilation=1, ceil_mode=False)\n",
       "  )\n",
       "  (DropOut): Dropout(p=0.5, inplace=False)\n",
       "  (FC): Linear(in_features=46080, out_features=2, bias=True)\n",
       "  (Softmax): Softmax(dim=1)\n",
       ")"
      ]
     },
     "execution_count": 8,
     "metadata": {},
     "output_type": "execute_result"
    }
   ],
   "source": [
    "model_best =  CNN20d()\n",
    "model_best.to(device)"
   ]
  },
  {
   "cell_type": "code",
   "execution_count": 9,
   "metadata": {},
   "outputs": [
    {
     "data": {
      "text/plain": [
       "<All keys matched successfully>"
      ]
     },
     "execution_count": 9,
     "metadata": {},
     "output_type": "execute_result"
    }
   ],
   "source": [
    "state_dict = torch.load(setting.TRAIN.MODEL_SAVE_FILE)\n",
    "model_best.load_state_dict(state_dict['model_state_dict'])"
   ]
  },
  {
   "cell_type": "code",
   "execution_count": 10,
   "metadata": {},
   "outputs": [],
   "source": [
    "def model_test(model, label_type, classes, test_loader, criterion):\n",
    "    # track test loss\n",
    "    test_loss = 0.0\n",
    "    class_correct = [0., 0.]\n",
    "    class_total = [0., 0.]\n",
    "\n",
    "    model.eval()\n",
    "    # iterate over test data\n",
    "    for i, (data, ret5, ret20) in enumerate(test_loader):\n",
    "        assert label_type in ['RET5', 'RET20'], f\"Wrong Label Type: {label_type}\"\n",
    "        if label_type == 'RET5':\n",
    "            target = ret5\n",
    "        else:\n",
    "            target = ret20\n",
    "            \n",
    "        target = (1-target).unsqueeze(1) @ torch.LongTensor([1., 0.]).unsqueeze(1).T + target.unsqueeze(1) @ torch.LongTensor([0, 1]).unsqueeze(1).T\n",
    "        target = target.to(torch.float32)\n",
    "            \n",
    "        # move tensors to GPU if CUDA is available\n",
    "        data, target = data.to(device), target.to(device)\n",
    "        # forward pass: compute predicted outputs by passing inputs to the model\n",
    "        output = model(data)\n",
    "        # calculate the batch loss\n",
    "        loss = criterion(output, target)\n",
    "        # update test loss \n",
    "        test_loss += loss.item()*data.size(0)\n",
    "        # convert output probabilities to predicted class\n",
    "        pred = torch.argmax(output, 1)    \n",
    "        # compare predictions to true label\n",
    "        correct_tensor = pred.eq(torch.argmax(target, 1).data.view_as(pred))\n",
    "        correct = np.squeeze(correct_tensor.numpy()) if not device == 'cuda' else np.squeeze(correct_tensor.cpu().numpy())\n",
    "        # calculate test accuracy for each object class\n",
    "        for i in range(target.shape[0]):\n",
    "            label = torch.argmax(target.data[i])\n",
    "            class_correct[label] += correct[i].item()\n",
    "            class_total[label] += 1\n",
    "\n",
    "    # average test loss\n",
    "    test_loss = test_loss/len(test_loader.dataset)\n",
    "    print('Test Loss: {:.6f}\\n'.format(test_loss))\n",
    "\n",
    "    for i in range(2):\n",
    "        if class_total[i] > 0:\n",
    "            print('Test Accuracy of %5s: %2d%% (%2d/%2d)' % (\n",
    "                classes[i], 100 * class_correct[i] / class_total[i],\n",
    "                np.sum(class_correct[i]), np.sum(class_total[i])))\n",
    "        else:\n",
    "            print('Test Accuracy of %5s: N/A (no training examples)' % (classes[i]))\n",
    "\n",
    "    print('\\nTest Accuracy (Overall): %2d%% (%2d/%2d)' % (\n",
    "        100. * np.sum(class_correct) / np.sum(class_total),\n",
    "        np.sum(class_correct), np.sum(class_total)))"
   ]
  },
  {
   "cell_type": "code",
   "execution_count": 13,
   "metadata": {},
   "outputs": [
    {
     "name": "stdout",
     "output_type": "stream",
     "text": [
      "Test Loss: 0.726079\n",
      "\n",
      "Test Accuracy of  down: 60% (32924/54606)\n",
      "Test Accuracy of    up: 42% (24312/56705)\n",
      "\n",
      "Test Accuracy (Overall): 51% (57236/111311)\n"
     ]
    }
   ],
   "source": [
    "criterion = nn.BCELoss()\n",
    "model_test(model_best, setting.TRAIN.LABEL, ['down', 'up'], test_loader, criterion)"
   ]
  }
 ],
 "metadata": {
  "kernelspec": {
   "display_name": "Python 3",
   "language": "python",
   "name": "python3"
  },
  "language_info": {
   "codemirror_mode": {
    "name": "ipython",
    "version": 3
   },
   "file_extension": ".py",
   "mimetype": "text/x-python",
   "name": "python",
   "nbconvert_exporter": "python",
   "pygments_lexer": "ipython3",
   "version": "3.8.12"
  },
  "orig_nbformat": 4
 },
 "nbformat": 4,
 "nbformat_minor": 2
}
