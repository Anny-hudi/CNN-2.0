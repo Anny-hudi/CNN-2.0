{
 "cells": [
  {
   "cell_type": "code",
   "execution_count": null,
   "metadata": {},
   "outputs": [],
   "source": [
    "from importlib import reload\n",
    "from model import *\n",
    "from train import *\n",
    "from dataset import *\n",
    "import dataset as _D\n",
    "reload(_D)\n",
    "import utils as _U\n",
    "reload(_U)\n",
    "from collections import OrderedDict\n",
    "import yaml"
   ]
  },
  {
   "attachments": {},
   "cell_type": "markdown",
   "metadata": {},
   "source": [
    "## Training Settings"
   ]
  },
  {
   "cell_type": "code",
   "execution_count": null,
   "metadata": {},
   "outputs": [],
   "source": [
    "with open('configs/I20R5/I20R5_09-11.yml', 'r') as f:\n",
    "    setting = _U.Dict2ObjParser(yaml.safe_load(f)).parse()"
   ]
  },
  {
   "cell_type": "code",
   "execution_count": null,
   "metadata": {},
   "outputs": [],
   "source": [
    "if 'models' not in os.listdir('./'):\n",
    "    os.system('mkdir models')\n",
    "if setting.TRAIN.MODEL_SAVE_FILE.split('/')[1] not in os.listdir('./models/'):\n",
    "    os.system(f\"cd models && mkdir {setting.TRAIN.MODEL_SAVE_FILE.split('/')[1]}\")\n",
    "if 'logs' not in os.listdir('./'):\n",
    "    os.system('mkdir logs')\n",
    "if setting.TRAIN.LOG_SAVE_FILE.split('/')[1] not in os.listdir('./logs/'):\n",
    "    os.system(f\"cd logs && mkdir {setting.TRAIN.LOG_SAVE_FILE.split('/')[1]}\")"
   ]
  },
  {
   "attachments": {},
   "cell_type": "markdown",
   "metadata": {},
   "source": [
    "## Train & Valid"
   ]
  },
  {
   "attachments": {},
   "cell_type": "markdown",
   "metadata": {},
   "source": [
    "### Dataset Preparation"
   ]
  },
  {
   "cell_type": "code",
   "execution_count": null,
   "metadata": {},
   "outputs": [],
   "source": [
    "train_dataset = _D.ImageDataSet(win_size = setting.DATASET.LOOKBACK_WIN, \\\n",
    "                            start_date = setting.DATASET.START_DATE, \\\n",
    "                            end_date = setting.DATASET.END_DATE, \\\n",
    "                            mode = setting.DATASET.MODE, \\\n",
    "                            indicators = setting.DATASET.INDICATORS, \\\n",
    "                            show_volume = setting.DATASET.SHOW_VOLUME, \\\n",
    "                            parallel_num=setting.DATASET.PARALLEL_NUM)"
   ]
  },
  {
   "cell_type": "code",
   "execution_count": null,
   "metadata": {},
   "outputs": [],
   "source": [
    "image_set = train_dataset.generate_images(setting.DATASET.SAMPLE_RATE)"
   ]
  },
  {
   "cell_type": "code",
   "execution_count": null,
   "metadata": {},
   "outputs": [],
   "source": [
    "len(image_set)"
   ]
  },
  {
   "cell_type": "code",
   "execution_count": null,
   "metadata": {},
   "outputs": [],
   "source": [
    "# preview of the \"image\" (np.array)\n",
    "display_image(image_set[69])"
   ]
  },
  {
   "cell_type": "code",
   "execution_count": null,
   "metadata": {},
   "outputs": [],
   "source": [
    "train_loader_size = int(len(image_set)*(1-setting.TRAIN.VALID_RATIO))\n",
    "valid_loader_size = len(image_set) - train_loader_size\n",
    "\n",
    "train_loader, valid_loader = torch.utils.data.random_split(image_set, [train_loader_size, valid_loader_size])\n",
    "train_loader = torch.utils.data.DataLoader(dataset=train_loader, batch_size=setting.TRAIN.BATCH_SIZE, shuffle=True)\n",
    "valid_loader = torch.utils.data.DataLoader(dataset=valid_loader, batch_size=setting.TRAIN.BATCH_SIZE, shuffle=True)"
   ]
  },
  {
   "attachments": {},
   "cell_type": "markdown",
   "metadata": {},
   "source": [
    "### Model Structure"
   ]
  },
  {
   "cell_type": "code",
   "execution_count": null,
   "metadata": {},
   "outputs": [],
   "source": [
    "model_d20 = CNN20d()\n",
    "model_d20.to(device)"
   ]
  },
  {
   "attachments": {},
   "cell_type": "markdown",
   "metadata": {},
   "source": [
    "### Training Process"
   ]
  },
  {
   "cell_type": "code",
   "execution_count": null,
   "metadata": {},
   "outputs": [],
   "source": [
    "criterion = nn.BCELoss()\n",
    "optimizer = optim.Adam(model_d20.parameters(), lr=setting.TRAIN.LEARNING_RATE, weight_decay=setting.TRAIN.WEIGHT_DECAY)"
   ]
  },
  {
   "cell_type": "code",
   "execution_count": null,
   "metadata": {},
   "outputs": [],
   "source": [
    "train_loss_set, valid_loss_set, train_acc_set, valid_acc_set = train_n_epochs(setting.TRAIN.NEPOCH, model_d20, setting.TRAIN.LABEL, train_loader, valid_loader, criterion, optimizer, setting.TRAIN.MODEL_SAVE_FILE, setting.TRAIN.EARLY_STOP_EPOCH)"
   ]
  },
  {
   "cell_type": "code",
   "execution_count": null,
   "metadata": {},
   "outputs": [],
   "source": [
    "plot_loss_and_acc({\"temp train\": [train_loss_set, train_acc_set], \\\n",
    "                    \"temp valid\": [valid_loss_set, valid_acc_set]})"
   ]
  },
  {
   "cell_type": "code",
   "execution_count": null,
   "metadata": {},
   "outputs": [],
   "source": [
    "log = pd.DataFrame([train_loss_set, train_acc_set, valid_loss_set, valid_acc_set], index=['train_loss', 'train_acc', 'valid_loss', 'valid_acc'])\n",
    "log.to_csv(setting.TRAIN.LOG_SAVE_FILE)"
   ]
  },
  {
   "cell_type": "code",
   "execution_count": null,
   "metadata": {},
   "outputs": [],
   "source": [
    "logs = pd.read_csv(setting.TRAIN.LOG_SAVE_FILE, index_col=0).T"
   ]
  },
  {
   "cell_type": "code",
   "execution_count": null,
   "metadata": {},
   "outputs": [],
   "source": [
    "plot_loss_and_acc({\"train\": [logs['train_loss'], logs['train_acc']], \\\n",
    "                    \"valid\": [logs['valid_loss'], logs['valid_acc']]})"
   ]
  },
  {
   "attachments": {},
   "cell_type": "markdown",
   "metadata": {},
   "source": [
    "## Test"
   ]
  },
  {
   "cell_type": "code",
   "execution_count": null,
   "metadata": {},
   "outputs": [],
   "source": [
    "model_best =  CNN20d()\n",
    "model_best.to(device)\n",
    "\n",
    "# Load Model\n",
    "state_dict = torch.load(setting.TRAIN.MODEL_SAVE_FILE)\n",
    "model_best.load_state_dict(state_dict['model_state_dict'])"
   ]
  },
  {
   "cell_type": "code",
   "execution_count": null,
   "metadata": {},
   "outputs": [],
   "source": [
    "def model_test(model, label_type, classes, criterion):\n",
    "    # track test loss\n",
    "    test_loss = 0.0\n",
    "    class_correct = [0., 0.]\n",
    "    class_total = [0., 0.]\n",
    "\n",
    "    model.eval()\n",
    "    # iterate over test data\n",
    "    sub_points = [setting.TEST.START_DATE] + [int(setting.TEST.END_DATE//1e4 * 1e4) + i*100 + 1 for i in range(4, 13, 3)] + [setting.TEST.END_DATE]\n",
    "    \n",
    "    for m_idx in range(len(sub_points)-1):\n",
    "        print(f\"Testing: {sub_points[m_idx]} - {sub_points[m_idx+1]}\")\n",
    "        test_dataset = _D.ImageDataSet(win_size = setting.DATASET.LOOKBACK_WIN, \\\n",
    "                            start_date = sub_points[m_idx], \\\n",
    "                            end_date = sub_points[m_idx+1], \\\n",
    "                            mode = 'default', \\\n",
    "                            indicators = setting.DATASET.INDICATORS, \\\n",
    "                            show_volume = setting.DATASET.SHOW_VOLUME, \\\n",
    "                            parallel_num=setting.DATASET.PARALLEL_NUM)\n",
    "        test_imageset = test_dataset.generate_images(1.0)\n",
    "        test_loader = torch.utils.data.DataLoader(dataset=test_imageset, batch_size=setting.TRAIN.BATCH_SIZE, shuffle=False)\n",
    "            \n",
    "        for i, (data, ret5, ret20) in enumerate(test_loader):\n",
    "            assert label_type in ['RET5', 'RET20'], f\"Wrong Label Type: {label_type}\"\n",
    "            if label_type == 'RET5':\n",
    "                target = ret5\n",
    "            else:\n",
    "                target = ret20\n",
    "                \n",
    "            target = (1-target).unsqueeze(1) @ torch.LongTensor([1., 0.]).unsqueeze(1).T + target.unsqueeze(1) @ torch.LongTensor([0, 1]).unsqueeze(1).T\n",
    "            target = target.to(torch.float32)\n",
    "                \n",
    "            # move tensors to GPU if CUDA is available\n",
    "            data, target = data.to(device), target.to(device)\n",
    "            # forward pass: compute predicted outputs by passing inputs to the model\n",
    "            output = model(data)\n",
    "            # calculate the batch loss\n",
    "            loss = criterion(output, target)\n",
    "            # update test loss \n",
    "            test_loss += loss.item()*data.size(0)\n",
    "            # convert output probabilities to predicted class\n",
    "            pred = torch.argmax(output, 1)    \n",
    "            # compare predictions to true label\n",
    "            correct_tensor = pred.eq(torch.argmax(target, 1).data.view_as(pred))\n",
    "            correct = np.squeeze(correct_tensor.numpy()) if not device == 'cuda' else np.squeeze(correct_tensor.cpu().numpy())\n",
    "            # calculate test accuracy for each object class\n",
    "            for i in range(target.shape[0]):\n",
    "                label = torch.argmax(target.data[i])\n",
    "                class_correct[label] += correct[i].item()\n",
    "                class_total[label] += 1\n",
    "\n",
    "    # average test loss\n",
    "    test_loss = test_loss/len(test_loader.dataset)\n",
    "    print('Test Loss: {:.6f}\\n'.format(test_loss))\n",
    "\n",
    "    for i in range(2):\n",
    "        if class_total[i] > 0:\n",
    "            print('Test Accuracy of %5s: %2d%% (%2d/%2d)' % (\n",
    "                classes[i], 100 * class_correct[i] / class_total[i],\n",
    "                np.sum(class_correct[i]), np.sum(class_total[i])))\n",
    "        else:\n",
    "            print('Test Accuracy of %5s: N/A (no training examples)' % (classes[i]))\n",
    "\n",
    "    print('\\nTest Accuracy (Overall): %2d%% (%2d/%2d)' % (\n",
    "        100. * np.sum(class_correct) / np.sum(class_total),\n",
    "        np.sum(class_correct), np.sum(class_total)))"
   ]
  },
  {
   "cell_type": "code",
   "execution_count": null,
   "metadata": {},
   "outputs": [],
   "source": [
    "criterion = nn.BCELoss()\n",
    "model_test(model_best, setting.TRAIN.LABEL, ['down', 'up'], criterion)"
   ]
  },
  {
   "attachments": {},
   "cell_type": "markdown",
   "metadata": {},
   "source": [
    "## Inference"
   ]
  },
  {
   "cell_type": "code",
   "execution_count": null,
   "metadata": {},
   "outputs": [],
   "source": [
    "def model_inference(model):\n",
    "\n",
    "    model.eval()\n",
    "    # iterate over test data\n",
    "    sub_points = [setting.TEST.START_DATE] + [int(setting.TEST.END_DATE//1e4 * 1e4) + i*100 + 1 for i in range(4, 13, 3)] + [setting.TEST.END_DATE]\n",
    "\n",
    "    symbol_factors = pd.DataFrame([], index=['code', 'date', 'up_factor']).T\n",
    "    for m_idx in range(len(sub_points)-1):\n",
    "        print(f\"Inferencing: {sub_points[m_idx]} - {sub_points[m_idx+1]}\")\n",
    "        \n",
    "        inference_dataset = _D.ImageDataSet(win_size = setting.DATASET.LOOKBACK_WIN, \\\n",
    "                                        start_date = sub_points[m_idx], \\\n",
    "                                        end_date = sub_points[m_idx+1], \\\n",
    "                                        mode = 'inference', \\\n",
    "                                        indicators = setting.DATASET.INDICATORS, \\\n",
    "                                        show_volume = setting.DATASET.SHOW_VOLUME, \\\n",
    "                                        parallel_num=setting.DATASET.PARALLEL_NUM)\n",
    "        inference_imageset = inference_dataset.generate_images(1.0)\n",
    "\n",
    "        for id in range(len(inference_imageset)-1):\n",
    "            if len(inference_imageset[id][1]) == 0:\n",
    "                continue\n",
    "            inference_imgs = []\n",
    "            for img in inference_imageset[id][1]:\n",
    "                inference_imgs.append(img[0])\n",
    "            input = torch.Tensor(np.array(inference_imgs))\n",
    "            input = input.to(device)\n",
    "            output = model_best(input)[:, 1]\n",
    "            up_factors = []\n",
    "            for pred in output:\n",
    "                up_factors.append(pred.item())\n",
    "            symbol_f = pd.DataFrame([[inference_imageset[id][0] for _ in range(len(inference_imageset[id][1]))], inference_imageset[id][2], up_factors], index=['code', 'date', 'up_factor']).T\n",
    "            \n",
    "            symbol_factors = pd.concat([symbol_factors, symbol_f], axis=0)\n",
    "            \n",
    "    return symbol_factors"
   ]
  },
  {
   "cell_type": "code",
   "execution_count": null,
   "metadata": {},
   "outputs": [],
   "source": [
    "up_factors = model_inference(model_best)"
   ]
  },
  {
   "cell_type": "code",
   "execution_count": null,
   "metadata": {},
   "outputs": [],
   "source": []
  }
 ],
 "metadata": {
  "kernelspec": {
   "display_name": "Python 3",
   "language": "python",
   "name": "python3"
  },
  "language_info": {
   "codemirror_mode": {
    "name": "ipython",
    "version": 3
   },
   "file_extension": ".py",
   "mimetype": "text/x-python",
   "name": "python",
   "nbconvert_exporter": "python",
   "pygments_lexer": "ipython3",
   "version": "3.8.12"
  },
  "orig_nbformat": 4
 },
 "nbformat": 4,
 "nbformat_minor": 2
}
