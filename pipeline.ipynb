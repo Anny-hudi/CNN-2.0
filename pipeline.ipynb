{
 "cells": [
  {
   "cell_type": "code",
   "execution_count": 1,
   "metadata": {},
   "outputs": [
    {
     "name": "stderr",
     "output_type": "stream",
     "text": [
      "/root/miniconda3/envs/myconda/lib/python3.8/site-packages/tqdm/auto.py:21: TqdmWarning: IProgress not found. Please update jupyter and ipywidgets. See https://ipywidgets.readthedocs.io/en/stable/user_install.html\n",
      "  from .autonotebook import tqdm as notebook_tqdm\n",
      "usage: ipykernel_launcher.py [-h] setting\n",
      "ipykernel_launcher.py: error: the following arguments are required: setting\n"
     ]
    },
    {
     "ename": "SystemExit",
     "evalue": "2",
     "output_type": "error",
     "traceback": [
      "An exception has occurred, use %tb to see the full traceback.\n",
      "\u001b[0;31mSystemExit\u001b[0m\u001b[0;31m:\u001b[0m 2\n"
     ]
    }
   ],
   "source": [
    "from importlib import reload\n",
    "from model import *\n",
    "from train import *\n",
    "from test import *\n",
    "from inference import *\n",
    "from dataset import *\n",
    "import dataset as _D\n",
    "reload(_D)\n",
    "import utils as _U\n",
    "reload(_U)\n",
    "from collections import OrderedDict\n",
    "import yaml"
   ]
  },
  {
   "attachments": {},
   "cell_type": "markdown",
   "metadata": {},
   "source": [
    "## Training Settings"
   ]
  },
  {
   "cell_type": "code",
   "execution_count": null,
   "metadata": {},
   "outputs": [],
   "source": [
    "with open('configs/I20R5/I20R5_09-11.yml', 'r') as f:\n",
    "    setting = _U.Dict2ObjParser(yaml.safe_load(f)).parse()"
   ]
  },
  {
   "cell_type": "code",
   "execution_count": null,
   "metadata": {},
   "outputs": [],
   "source": [
    "if 'models' not in os.listdir('./'):\n",
    "    os.system('mkdir models')\n",
    "if setting.TRAIN.MODEL_SAVE_FILE.split('/')[1] not in os.listdir('./models/'):\n",
    "    os.system(f\"cd models && mkdir {setting.TRAIN.MODEL_SAVE_FILE.split('/')[1]}\")\n",
    "if 'logs' not in os.listdir('./'):\n",
    "    os.system('mkdir logs')\n",
    "if setting.TRAIN.LOG_SAVE_FILE.split('/')[1] not in os.listdir('./logs/'):\n",
    "    os.system(f\"cd logs && mkdir {setting.TRAIN.LOG_SAVE_FILE.split('/')[1]}\")"
   ]
  },
  {
   "attachments": {},
   "cell_type": "markdown",
   "metadata": {},
   "source": [
    "## Train & Valid"
   ]
  },
  {
   "attachments": {},
   "cell_type": "markdown",
   "metadata": {},
   "source": [
    "### Dataset Preparation"
   ]
  },
  {
   "cell_type": "code",
   "execution_count": null,
   "metadata": {},
   "outputs": [],
   "source": [
    "train_dataset = _D.ImageDataSet(win_size = setting.DATASET.LOOKBACK_WIN, \\\n",
    "                            start_date = setting.DATASET.START_DATE, \\\n",
    "                            end_date = setting.DATASET.END_DATE, \\\n",
    "                            mode = setting.DATASET.MODE, \\\n",
    "                            indicators = setting.DATASET.INDICATORS, \\\n",
    "                            show_volume = setting.DATASET.SHOW_VOLUME, \\\n",
    "                            parallel_num=setting.DATASET.PARALLEL_NUM)"
   ]
  },
  {
   "cell_type": "code",
   "execution_count": null,
   "metadata": {},
   "outputs": [],
   "source": [
    "image_set = train_dataset.generate_images(setting.DATASET.SAMPLE_RATE)"
   ]
  },
  {
   "cell_type": "code",
   "execution_count": null,
   "metadata": {},
   "outputs": [],
   "source": [
    "len(image_set)"
   ]
  },
  {
   "cell_type": "code",
   "execution_count": null,
   "metadata": {},
   "outputs": [],
   "source": [
    "# preview of the \"image\" (np.array)\n",
    "display_image(image_set[69])"
   ]
  },
  {
   "cell_type": "code",
   "execution_count": null,
   "metadata": {},
   "outputs": [],
   "source": [
    "train_loader_size = int(len(image_set)*(1-setting.TRAIN.VALID_RATIO))\n",
    "valid_loader_size = len(image_set) - train_loader_size\n",
    "\n",
    "train_loader, valid_loader = torch.utils.data.random_split(image_set, [train_loader_size, valid_loader_size])\n",
    "train_loader = torch.utils.data.DataLoader(dataset=train_loader, batch_size=setting.TRAIN.BATCH_SIZE, shuffle=True)\n",
    "valid_loader = torch.utils.data.DataLoader(dataset=valid_loader, batch_size=setting.TRAIN.BATCH_SIZE, shuffle=True)"
   ]
  },
  {
   "attachments": {},
   "cell_type": "markdown",
   "metadata": {},
   "source": [
    "### Model Structure"
   ]
  },
  {
   "cell_type": "code",
   "execution_count": null,
   "metadata": {},
   "outputs": [],
   "source": [
    "model_d20 = CNN20d()\n",
    "model_d20.to(device)"
   ]
  },
  {
   "attachments": {},
   "cell_type": "markdown",
   "metadata": {},
   "source": [
    "### Training Process"
   ]
  },
  {
   "cell_type": "code",
   "execution_count": null,
   "metadata": {},
   "outputs": [],
   "source": [
    "criterion = nn.BCELoss()\n",
    "optimizer = optim.Adam(model_d20.parameters(), lr=setting.TRAIN.LEARNING_RATE, weight_decay=setting.TRAIN.WEIGHT_DECAY)"
   ]
  },
  {
   "cell_type": "code",
   "execution_count": null,
   "metadata": {},
   "outputs": [],
   "source": [
    "train_loss_set, valid_loss_set, train_acc_set, valid_acc_set = train_n_epochs(setting.TRAIN.NEPOCH, model_d20, setting.TRAIN.LABEL, train_loader, valid_loader, criterion, optimizer, setting.TRAIN.MODEL_SAVE_FILE, setting.TRAIN.EARLY_STOP_EPOCH)"
   ]
  },
  {
   "cell_type": "code",
   "execution_count": null,
   "metadata": {},
   "outputs": [],
   "source": [
    "plot_loss_and_acc({\"temp train\": [train_loss_set, train_acc_set], \\\n",
    "                    \"temp valid\": [valid_loss_set, valid_acc_set]})"
   ]
  },
  {
   "cell_type": "code",
   "execution_count": null,
   "metadata": {},
   "outputs": [],
   "source": [
    "log = pd.DataFrame([train_loss_set, train_acc_set, valid_loss_set, valid_acc_set], index=['train_loss', 'train_acc', 'valid_loss', 'valid_acc'])\n",
    "log.to_csv(setting.TRAIN.LOG_SAVE_FILE)"
   ]
  },
  {
   "cell_type": "code",
   "execution_count": null,
   "metadata": {},
   "outputs": [],
   "source": [
    "logs = pd.read_csv(setting.TRAIN.LOG_SAVE_FILE, index_col=0).T"
   ]
  },
  {
   "cell_type": "code",
   "execution_count": null,
   "metadata": {},
   "outputs": [],
   "source": [
    "plot_loss_and_acc({\"train\": [logs['train_loss'], logs['train_acc']], \\\n",
    "                    \"valid\": [logs['valid_loss'], logs['valid_acc']]})"
   ]
  },
  {
   "attachments": {},
   "cell_type": "markdown",
   "metadata": {},
   "source": [
    "## Test"
   ]
  },
  {
   "cell_type": "code",
   "execution_count": null,
   "metadata": {},
   "outputs": [],
   "source": [
    "model_best =  CNN20d()\n",
    "model_best.to(device)\n",
    "\n",
    "# Load Model\n",
    "state_dict = torch.load(setting.TRAIN.MODEL_SAVE_FILE)\n",
    "model_best.load_state_dict(state_dict['model_state_dict'])"
   ]
  },
  {
   "cell_type": "code",
   "execution_count": null,
   "metadata": {},
   "outputs": [],
   "source": [
    "criterion = nn.BCELoss()\n",
    "model_test(model_best, setting.TRAIN.LABEL, ['down', 'up'], criterion)"
   ]
  },
  {
   "attachments": {},
   "cell_type": "markdown",
   "metadata": {},
   "source": [
    "## Inference"
   ]
  },
  {
   "cell_type": "code",
   "execution_count": null,
   "metadata": {},
   "outputs": [],
   "source": [
    "up_factors = model_inference(model_best)"
   ]
  }
 ],
 "metadata": {
  "kernelspec": {
   "display_name": "Python 3",
   "language": "python",
   "name": "python3"
  },
  "language_info": {
   "codemirror_mode": {
    "name": "ipython",
    "version": 3
   },
   "file_extension": ".py",
   "mimetype": "text/x-python",
   "name": "python",
   "nbconvert_exporter": "python",
   "pygments_lexer": "ipython3",
   "version": "3.8.12"
  },
  "orig_nbformat": 4
 },
 "nbformat": 4,
 "nbformat_minor": 2
}
