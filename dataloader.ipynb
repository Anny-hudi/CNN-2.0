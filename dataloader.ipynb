{
 "cells": [
  {
   "cell_type": "code",
   "execution_count": 2,
   "metadata": {},
   "outputs": [],
   "source": [
    "import pandas as pd\n",
    "from tqdm import tqdm\n",
    "import numpy as np\n",
    "import os\n",
    "import zipfile\n",
    "import sys"
   ]
  },
  {
   "cell_type": "code",
   "execution_count": null,
   "metadata": {},
   "outputs": [],
   "source": [
    "if 'data' not in os.listdir():\n",
    "    os.system(\"mkdir data && cd data && wget 'https://cloud.tsinghua.edu.cn/f/5f2421dd8a324c15b5ed/?dl=1' -O tabularData.csv\")"
   ]
  },
  {
   "cell_type": "code",
   "execution_count": 29,
   "metadata": {},
   "outputs": [],
   "source": [
    "tabularDf = pd.read_csv('data/tabularData.csv')"
   ]
  },
  {
   "cell_type": "code",
   "execution_count": 32,
   "metadata": {},
   "outputs": [],
   "source": [
    "tabularDf = tabularDf[['open', 'high', 'low', 'close', 'volume', 'amount']]\n",
    "tabularDf.to_csv('data/tabularDf.csv')"
   ]
  },
  {
   "cell_type": "code",
   "execution_count": 5,
   "metadata": {},
   "outputs": [
    {
     "data": {
      "text/plain": [
       "20090000"
      ]
     },
     "execution_count": 5,
     "metadata": {},
     "output_type": "execute_result"
    }
   ],
   "source": [
    "int(2009*1e4)"
   ]
  },
  {
   "cell_type": "code",
   "execution_count": 6,
   "metadata": {},
   "outputs": [
    {
     "data": {
      "text/plain": [
       "[2009, 2011, 2013, 2015, 2017, 2019, 2021]"
      ]
     },
     "execution_count": 6,
     "metadata": {},
     "output_type": "execute_result"
    }
   ],
   "source": [
    "[year for year in range(2009, 2022, 2)]"
   ]
  },
  {
   "cell_type": "code",
   "execution_count": 15,
   "metadata": {},
   "outputs": [
    {
     "name": "stdout",
     "output_type": "stream",
     "text": [
      "[(20091171, 20111231), (20101171, 20121231), (20111171, 20131231), (20121171, 20141231), (20131171, 20151231), (20141171, 20161231), (20151171, 20171231), (20161171, 20181231), (20171171, 20191231), (20181171, 20201231)]\n",
      "[(20111171, 20121231), (20121171, 20131231), (20131171, 20141231), (20141171, 20151231), (20151171, 20161231), (20161171, 20171231), (20171171, 20181231), (20181171, 20191231), (20191171, 20201231), (20201171, 20211231)]\n"
     ]
    }
   ],
   "source": [
    "Training_ranges = [(int(start_year*1e4+1231-60), int(end_year*1e4+1231)) for start_year, end_year in zip(range(2009, 2019, 1), range(2011, 2021, 1))]\n",
    "print(Training_ranges)\n",
    "\n",
    "Test_ranges = [(int(start_year*1e4+1231-60), int(end_year*1e4+1231)) for start_year, end_year in zip(range(2011, 2021, 1), range(2012, 2022, 1))]\n",
    "print(Test_ranges)"
   ]
  },
  {
   "cell_type": "code",
   "execution_count": null,
   "metadata": {},
   "outputs": [],
   "source": [
    "Training_ranges = [(start_year*1e4+1231-60, end_year+1231), (20101231-60, 20121231), (20111231-60, 20131231), (20121231-60, 20141231), (20131231-60, 20151231), (20141231-60, 20161231), (20151231-60, 20171231), (20161231-60, 20181231), (20171231-60, 20191231), (20181231-60, 20201231)]\n",
    "\n",
    "Test_ranges = [(20111231-60, 20121231), (20121231-60, 20131231), (20131231-60, 20141231), (20141231-60, 20151231), (20151231-60, 20161231), (20161231-60, 20171231), (20171231-60, 20181231), (20181231-60, 20191231), (20191231-60, 20201231), (20201231-60, 20211231)]"
   ]
  },
  {
   "cell_type": "code",
   "execution_count": null,
   "metadata": {},
   "outputs": [],
   "source": [
    "tabularDf.head()"
   ]
  },
  {
   "cell_type": "code",
   "execution_count": null,
   "metadata": {},
   "outputs": [],
   "source": [
    "tabularDf = tabularDf[['code', 'date', 'open', 'high', 'low', 'close', 'volume', 'amount']]\n",
    "tabularDf['ret1'] = np.zeros(tabularDf.shape[0])\n",
    "tabularDf['ret5'] = np.zeros(tabularDf.shape[0])\n",
    "tabularDf['ret20'] = np.zeros(tabularDf.shape[0])"
   ]
  },
  {
   "cell_type": "code",
   "execution_count": null,
   "metadata": {},
   "outputs": [],
   "source": [
    "symbol_data = []\n",
    "for g in tqdm(tabularDf.groupby('code')):\n",
    "    g[1]['ret1'] = (g[1]['close'].pct_change()*100).shift(-1)\n",
    "    g[1]['ret5'] = (g[1]['close'].pct_change(5)*100).shift(-5)\n",
    "    g[1]['ret20'] = (g[1]['close'].pct_change(20)*100).shift(-20)\n",
    "    symbol_data.append(g[1])\n",
    "    \n",
    "tabularDf = pd.concat(symbol_data)"
   ]
  },
  {
   "cell_type": "code",
   "execution_count": null,
   "metadata": {},
   "outputs": [],
   "source": [
    "os.system('cd data && mkdir Split_Data')\n",
    "os.system('cd data/Split_Data && mkdir Train')\n",
    "for idx, train_period in enumerate(Training_ranges[:3]):\n",
    "    train_set = tabularDf.loc[(train_period[0] < tabularDf['date']) & (tabularDf['date'] < train_period[1])].reset_index(drop=True)\n",
    "    train_set.to_csv('data/Split_Data/Train/train_set{:0>2}.csv'.format(idx+1))\n",
    "\n",
    "os.system('cd data/Split_Data && mkdir Test')\n",
    "for idx, test_period in enumerate(Test_ranges[:3]):\n",
    "    test_set = tabularDf.loc[(test_period[0] < tabularDf['date']) & (tabularDf['date'] < test_period[1])].reset_index(drop=True)\n",
    "    test_set.to_csv('data/Split_Data/Test/test_set{:0>2}.csv'.format(idx+1))"
   ]
  },
  {
   "cell_type": "code",
   "execution_count": null,
   "metadata": {},
   "outputs": [],
   "source": [
    "def writeAllFileToZip(absDir, zipFile):\n",
    "    for f in os.listdir(absDir):\n",
    "        absFile=os.path.join(absDir,f) \n",
    "        if os.path.isdir(absFile): \n",
    "            relFile=absFile[len(os.getcwd())+1:] \n",
    "            zipFile.write(relFile) \n",
    "            writeAllFileToZip(absFile,zipFile) \n",
    "        else:\n",
    "            relFile=absFile[len(os.getcwd())+1:]\n",
    "            zipFile.write(relFile)\n",
    "    return\n",
    "    \n",
    "zipFilePath=os.path.join(sys.path[0],\"data/Split_Data.zip\") \n",
    "\n",
    "zipFile=zipfile.ZipFile(zipFilePath, \"w\", zipfile.ZIP_DEFLATED) \n",
    "absDir=os.path.join(sys.path[0],\"data/Split_Data/\") \n",
    "\n",
    "writeAllFileToZip(absDir,zipFile) \n",
    "print(\"Successfully Compressed\")\n"
   ]
  },
  {
   "cell_type": "code",
   "execution_count": null,
   "metadata": {},
   "outputs": [],
   "source": [
    "class DataLoader():\n",
    "    def __init__(self, win_size, start_date, end_date, batch_size, mode, shuffle):\n",
    "        assert mode in ['train', 'test'], f'Type Error: {mode}'\n",
    "        assert mode=='test' and not shuffle, 'Test Data should not shuffle'\n",
    "        \n",
    "        self.win_size = win_size # 5 or 15\n",
    "        self.start_date =start_date\n",
    "        self.end_date = end_date \n",
    "        self.batch_size = batch_size\n",
    "        self.mode = mode\n",
    "        self.shuffle = shuffle\n",
    "        \n",
    "                \n",
    "    def generate_data():\n",
    "        # generate data here, online or offline\n",
    "        self.df = pd.DataFrame()\n",
    "        \n",
    "        \n",
    "        \n",
    "    def next_batch():\n",
    "        # \n",
    "        \n",
    "        if mode == 'train':\n",
    "            \n",
    "            return new_batch, labels # new_batch: (N, 32/64, win_size*3); labels: (N, 1)\n",
    "        \n",
    "        else: \n",
    "            \n",
    "            \n",
    "            # In test_mode: one stock, one batch\n",
    "            # symbol: stock code; datelist: list of str; new_batch: (len(datelist), 32/64, win_size*3); labels: (len(datelist), 1)\n",
    "            return symbol, datelist, new_batch, labels\n",
    "    "
   ]
  },
  {
   "cell_type": "code",
   "execution_count": null,
   "metadata": {},
   "outputs": [],
   "source": []
  }
 ],
 "metadata": {
  "kernelspec": {
   "display_name": "myconda",
   "language": "python",
   "name": "python3"
  },
  "language_info": {
   "codemirror_mode": {
    "name": "ipython",
    "version": 3
   },
   "file_extension": ".py",
   "mimetype": "text/x-python",
   "name": "python",
   "nbconvert_exporter": "python",
   "pygments_lexer": "ipython3",
   "version": "3.8.12"
  },
  "orig_nbformat": 4
 },
 "nbformat": 4,
 "nbformat_minor": 2
}
