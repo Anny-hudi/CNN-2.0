{
 "cells": [
  {
   "cell_type": "code",
   "execution_count": 2,
   "metadata": {},
   "outputs": [],
   "source": [
    "import pandas as pd\n",
    "from tqdm import tqdm\n",
    "import numpy as np\n",
    "import os\n",
    "from zipfile import ZipFile\n",
    "import sys\n",
    "from contextlib import contextmanager\n",
    "import time\n",
    "import warnings\n",
    "warnings.filterwarnings('ignore')\n",
    "import datetime\n",
    "import matplotlib.pyplot as plt\n",
    "from joblib import Parallel, delayed"
   ]
  },
  {
   "cell_type": "code",
   "execution_count": 3,
   "metadata": {},
   "outputs": [],
   "source": [
    "@contextmanager \n",
    "def timer(name: str, _align): # ⏱\n",
    "    s = time.time()\n",
    "    yield\n",
    "    elapsed = time.time() - s\n",
    "    print(f\"{ '[' + name + ']' :{_align}} | {time.strftime('%Y-%m-%d %H:%M:%S')} Done | Using {elapsed: .3f} seconds\")"
   ]
  },
  {
   "cell_type": "code",
   "execution_count": 4,
   "metadata": {},
   "outputs": [],
   "source": [
    "def cal_indicators(tabular_df, indicator_name, parameters):\n",
    "    if indicator_name == \"MA\":\n",
    "        assert len(parameters) == 1, f'Wrong parameters num, expected 1, got {len(parameters)}'\n",
    "        slice_win_size = parameters[0]\n",
    "        MA = tabular_df['close'].rolling(slice_win_size, min_periods=1).mean()\n",
    "        return MA # pd.Series"
   ]
  },
  {
   "cell_type": "code",
   "execution_count": 5,
   "metadata": {},
   "outputs": [],
   "source": [
    "def single_symbol_image(tabular_df, image_size, start_date, sample_rate, indicators, show_volume):\n",
    "    ''' generate Candlelist images\n",
    "    \n",
    "    parameters: [\n",
    "        tabular_df  -> pandas.DataFrame: tabular data,\n",
    "        image_size  -> tuple: (H, W), size shouble (32, 15), (64, 60)\n",
    "        start_date  -> int: truncate extra rows after generating images,\n",
    "        indicators  -> dict: technical indicators added on the image, e.g. {\"MA\": [20]},\n",
    "        show_volume -> boolean: show volume bars or not\n",
    "    ]\n",
    "    \n",
    "    Note: A single day's data occupies 3 pixel (width). First rows's dates should be prior to the start date in order to make sure there are enough data to generate image for the start date.\n",
    "    \n",
    "    return -> list: each item of the list is [np.array(image_size), binary, binary, binary]. The last three binary (0./1.) are the label of ret1, ret5 and ret20\n",
    "    \n",
    "    '''\n",
    "    for ind in indicators.keys():\n",
    "        tabular_df[ind] = cal_indicators(tabular_df, ind, indicators[ind])\n",
    "    \n",
    "    dataset = []\n",
    "    lookback = image_size[1]//3\n",
    "    for d in range(lookback-1, len(tabular_df)):\n",
    "        # random skip some trading dates\n",
    "        if np.random.rand(1) > sample_rate:\n",
    "            continue\n",
    "        # skip dates before start_date\n",
    "        if tabular_df.iloc[d]['date'] < start_date:\n",
    "            continue\n",
    "        \n",
    "        price_slice = tabular_df[d-(lookback-1):d+1][['open', 'high', 'low', 'close']+list(indicators.keys())].reset_index(drop=True)\n",
    "        volume_slice = tabular_df[d-(lookback-1):d+1][['volume']].reset_index(drop=True)\n",
    "\n",
    "        # number of no transactions days > 0.2*look back days\n",
    "        if (1.0*(price_slice[['open', 'high', 'low', 'close']].sum(axis=1)/price_slice['open'] == 4)).sum() > lookback//5: \n",
    "            continue\n",
    "        \n",
    "        # project price into quantile\n",
    "        price_slice = (price_slice - np.min(price_slice.values))/(np.max(price_slice.values) - np.min(price_slice.values))\n",
    "        volume_slice = (volume_slice - np.min(volume_slice.values))/(np.max(volume_slice.values) - np.min(volume_slice.values))\n",
    "\n",
    "        if not show_volume:\n",
    "            price_slice = price_slice.apply(lambda x: x*(image_size[0]-1)).astype(int)\n",
    "        else:\n",
    "            if image_size[0] == 32:\n",
    "                price_slice = price_slice.apply(lambda x: x*(25-1)+7).astype(int)\n",
    "                volume_slice = volume_slice.apply(lambda x: x*(6-1)).astype(int)\n",
    "            else:\n",
    "                price_slice = price_slice.apply(lambda x: x*(51-1)+13).astype(int)\n",
    "                volume_slice = volume_slice.apply(lambda x: x*(12-1)).astype(int)\n",
    "        \n",
    "        image = np.zeros(image_size)\n",
    "        for i in range(len(price_slice)):\n",
    "            # draw candlelist \n",
    "            image[price_slice.loc[i]['open'], i*3] = 255.\n",
    "            image[price_slice.loc[i]['low']:price_slice.loc[i]['high']+1, i*3+1] = 255.\n",
    "            image[price_slice.loc[i]['close'], i*3+2] = 255.\n",
    "            # draw indicators\n",
    "            for ind in indicators.keys():\n",
    "                image[price_slice.loc[i][ind], i*3:i*3+2] = 255.\n",
    "            # draw volume bars\n",
    "            if show_volume:\n",
    "                image[:volume_slice.loc[i]['volume'], i*3+1] = 255.\n",
    "    \n",
    "        label_ret1 = 1 if np.sign(tabular_df.iloc[d]['ret1']) > 0 else 0\n",
    "        label_ret5 = 1 if np.sign(tabular_df.iloc[d]['ret5']) > 0 else 0\n",
    "        label_ret20 = 1 if np.sign(tabular_df.iloc[d]['ret20']) > 0 else 0\n",
    "        \n",
    "        entry = [image, label_ret1, label_ret5, label_ret20]\n",
    "        dataset.append(entry)\n",
    "    return dataset\n",
    "\n",
    "\n",
    "class ImageDataSet():\n",
    "    def __init__(self, win_size, start_date, end_date, mode, indicators={}, show_volume=False):\n",
    "        assert mode in ['train', 'test'], f'Type Error: {mode}'\n",
    "        assert win_size in [5, 20], f'Wrong look back days: {win_size}'\n",
    "        \n",
    "        if win_size == 5:\n",
    "            self.image_size = (32, 15)\n",
    "            self.extra_dates = datetime.timedelta(days=40)\n",
    "        else:\n",
    "            self.image_size = (64, 60)\n",
    "            self.extra_dates = datetime.timedelta(days=40)\n",
    "            \n",
    "        self.start_date = start_date\n",
    "        self.end_date = end_date \n",
    "        self.mode = mode\n",
    "        self.indicators = indicators\n",
    "        self.show_volume = show_volume\n",
    "        self.load_data()\n",
    "        print(f\"{self.mode.upper()} DataSet Initialized\\n \\t - Image Size:   {self.image_size}\\n \\t - Time Period:  {self.start_date} - {self.end_date}\\n \\t - Indicators:   {self.indicators}\\n \\t - Volume Shown: {self.show_volume}\")\n",
    "        # self.generate_images()\n",
    "        \n",
    "    @timer('Load Data', '8')\n",
    "    def load_data(self):\n",
    "        if 'data' not in os.listdir():\n",
    "            print('Download Original Tabular Data')\n",
    "            os.system(\"mkdir data && cd data && wget 'https://cloud.tsinghua.edu.cn/f/f0bc022b5a084626855f/?dl=1' -O tabularDf.zip\")\n",
    "            \n",
    "        if 'data' in os.listdir() and 'tabularDf.zip' not in os.listdir('data'):\n",
    "            print('Download Original Tabular Data')\n",
    "            os.system(\"cd data && wget 'https://cloud.tsinghua.edu.cn/f/f0bc022b5a084626855f/?dl=1' -O tabularDf.zip\")\n",
    "        \n",
    "        with ZipFile('data/tabularDf.zip', 'r') as z:\n",
    "            f =  z.open('tabularDf.csv')\n",
    "            tabularDf = pd.read_csv(f, index_col=0)\n",
    "            f.close()\n",
    "            z.close()\n",
    "            \n",
    "        # add extra rows to make sure image of start date and returns of end date can be calculated\n",
    "        \n",
    "        padding_start_date = int(str(pd.to_datetime(str(self.start_date)) - self.extra_dates).split(' ')[0].replace('-', ''))\n",
    "        paddint_end_date = int(str(pd.to_datetime(str(self.end_date)) + self.extra_dates).split(' ')[0].replace('-', ''))\n",
    "        self.df = tabularDf.loc[(tabularDf['date'] > padding_start_date) & (tabularDf['date'] < paddint_end_date)]\n",
    "        tabularDf = [] # clear memory\n",
    "        \n",
    "        self.df['ret1'] = np.zeros(self.df.shape[0])\n",
    "        self.df['ret5'] = np.zeros(self.df.shape[0])\n",
    "        self.df['ret20'] = np.zeros(self.df.shape[0])\n",
    "        self.df['ret1'] = (self.df['close'].pct_change()*100).shift(-1)\n",
    "        self.df['ret5'] = (self.df['close'].pct_change(5)*100).shift(-5)\n",
    "        self.df['ret20'] = (self.df['close'].pct_change(20)*100).shift(-20)\n",
    "        \n",
    "        self.df = self.df.loc[self.df['date'] <= self.end_date]\n",
    "        \n",
    "        \n",
    "    def generate_images(self, sample_rate):\n",
    "        dataset_all = Parallel(n_jobs=32)(delayed(single_symbol_image)(\\\n",
    "                                        g[1], image_size = self.image_size,\\\n",
    "                                           start_date = self.start_date,\\\n",
    "                                          sample_rate = sample_rate,\\\n",
    "                                           indicators = self.indicators,\\\n",
    "                                          show_volume = self.show_volume\n",
    "                                        ) for g in tqdm(self.df.groupby('code'), desc='Generating Images'))\n",
    "        \n",
    "        self.dataset_squeeze = []\n",
    "        for symbol_data in dataset_all:\n",
    "            self.dataset_squeeze = self.dataset_squeeze + symbol_data\n",
    "        dataset_all = [] # clear memory\n",
    "        \n",
    "        return self.dataset_squeeze\n",
    "    "
   ]
  },
  {
   "cell_type": "code",
   "execution_count": 6,
   "metadata": {},
   "outputs": [
    {
     "name": "stdout",
     "output_type": "stream",
     "text": [
      "[Load Data] | 2023-04-15 05:29:06 Done | Using  9.587 seconds\n",
      "TRAIN DataSet Initialized\n",
      " \t - Image Size:   (64, 60)\n",
      " \t - Time Period:  20091231 - 20111231\n",
      " \t - Indicators:   {'MA': [20]}\n",
      " \t - Volume Shown: True\n"
     ]
    }
   ],
   "source": [
    "train_dataset = []\n",
    "train_dataset = ImageDataSet(win_size=20, start_date=20091231, end_date=20111231, mode='train', indicators={'MA':[20]}, show_volume=True)"
   ]
  },
  {
   "cell_type": "code",
   "execution_count": 7,
   "metadata": {},
   "outputs": [
    {
     "name": "stderr",
     "output_type": "stream",
     "text": [
      "Generating Images: 100%|██████████| 2283/2283 [00:39<00:00, 58.32it/s] \n"
     ]
    }
   ],
   "source": [
    "image_set = train_dataset.generate_images(0.004)"
   ]
  },
  {
   "cell_type": "code",
   "execution_count": 8,
   "metadata": {},
   "outputs": [
    {
     "name": "stdout",
     "output_type": "stream",
     "text": [
      "3640\n",
      "4\n"
     ]
    }
   ],
   "source": [
    "print(len(image_set))\n",
    "print(len(image_set[0]))"
   ]
  },
  {
   "cell_type": "code",
   "execution_count": 10,
   "metadata": {},
   "outputs": [
    {
     "data": {
      "text/plain": [
       "(64, 60)"
      ]
     },
     "execution_count": 10,
     "metadata": {},
     "output_type": "execute_result"
    }
   ],
   "source": [
    "image_set[0][0].shape"
   ]
  },
  {
   "cell_type": "code",
   "execution_count": 23,
   "metadata": {},
   "outputs": [],
   "source": [
    "def display_image(entry):\n",
    "    assert (type(entry) == list) and (len(entry) == 4), \"Type error, expected a list with length of 4\"\n",
    "    plt.imshow(entry[0], cmap=plt.get_cmap('gray'))\n",
    "    plt.ylim((0,entry[0].shape[0]-1))\n",
    "    plt.xlim((0,entry[0].shape[1]-1))\n",
    "    plt.title(f'ret1: {entry[1]}\\nret5: {entry[2]}\\nret20: {entry[2]}')"
   ]
  },
  {
   "cell_type": "code",
   "execution_count": 24,
   "metadata": {},
   "outputs": [
    {
     "data": {
      "image/png": "[encoded data removed]",
      "text/plain": [
       "<Figure size 432x288 with 1 Axes>"
      ]
     },
     "metadata": {
      "needs_background": "light"
     },
     "output_type": "display_data"
    }
   ],
   "source": [
    "display_image(image_set[1223])"
   ]
  },
  {
   "cell_type": "code",
   "execution_count": null,
   "metadata": {},
   "outputs": [],
   "source": []
  }
 ],
 "metadata": {
  "kernelspec": {
   "display_name": "myconda",
   "language": "python",
   "name": "python3"
  },
  "language_info": {
   "codemirror_mode": {
    "name": "ipython",
    "version": 3
   },
   "file_extension": ".py",
   "mimetype": "text/x-python",
   "name": "python",
   "nbconvert_exporter": "python",
   "pygments_lexer": "ipython3",
   "version": "3.8.12"
  },
  "orig_nbformat": 4
 },
 "nbformat": 4,
 "nbformat_minor": 2
}
