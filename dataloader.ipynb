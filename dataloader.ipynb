{
 "cells": [
  {
   "cell_type": "code",
   "execution_count": null,
   "metadata": {},
   "outputs": [],
   "source": [
    "import pandas as pd\n",
    "from tqdm import tqdm\n",
    "import numpy as np\n",
    "import os\n",
    "import zipfile\n",
    "import sys"
   ]
  },
  {
   "cell_type": "code",
   "execution_count": null,
   "metadata": {},
   "outputs": [],
   "source": [
    "if 'data' not in os.listdir():\n",
    "    os.system(\"mkdir data && cd data && wget 'https://cloud.tsinghua.edu.cn/f/5f2421dd8a324c15b5ed/?dl=1' -O tabularData.csv\")"
   ]
  },
  {
   "cell_type": "code",
   "execution_count": null,
   "metadata": {},
   "outputs": [],
   "source": [
    "tabularDf = pd.read_csv('data/tabularData.csv')"
   ]
  },
  {
   "cell_type": "code",
   "execution_count": null,
   "metadata": {},
   "outputs": [],
   "source": [
    "Training_ranges = [(20091231-60, 20111231), (20101231-60, 20121231), (20111231-60, 20131231), (20121231-60, 20141231), (20131231-60, 20151231), (20141231-60, 20161231), (20151231-60, 20171231), (20161231-60, 20181231), (20171231-60, 20191231), (20181231-60, 20201231)]\n",
    "\n",
    "Test_ranges = [(20111231-60, 20121231), (20121231-60, 20131231), (20131231-60, 20141231), (20141231-60, 20151231), (20151231-60, 20161231), (20161231-60, 20171231), (20171231-60, 20181231), (20181231-60, 20191231), (20191231-60, 20201231), (20201231-60, 20211231)]"
   ]
  },
  {
   "cell_type": "code",
   "execution_count": null,
   "metadata": {},
   "outputs": [],
   "source": [
    "tabularDf.head()"
   ]
  },
  {
   "cell_type": "code",
   "execution_count": null,
   "metadata": {},
   "outputs": [],
   "source": [
    "tabularDf = tabularDf[['code', 'date', 'open', 'high', 'low', 'close', 'volume', 'amount']]\n",
    "tabularDf['ret1'] = np.zeros(tabularDf.shape[0])\n",
    "tabularDf['ret5'] = np.zeros(tabularDf.shape[0])\n",
    "tabularDf['ret20'] = np.zeros(tabularDf.shape[0])"
   ]
  },
  {
   "cell_type": "code",
   "execution_count": null,
   "metadata": {},
   "outputs": [],
   "source": [
    "symbol_data = []\n",
    "for g in tqdm(tabularDf.groupby('code')):\n",
    "    g[1]['ret1'] = (g[1]['close'].pct_change()*100).shift(-1)\n",
    "    g[1]['ret5'] = (g[1]['close'].pct_change(5)*100).shift(-5)\n",
    "    g[1]['ret20'] = (g[1]['close'].pct_change(20)*100).shift(-20)\n",
    "    symbol_data.append(g[1])\n",
    "    \n",
    "tabularDf = pd.concat(symbol_data)"
   ]
  },
  {
   "cell_type": "code",
   "execution_count": null,
   "metadata": {},
   "outputs": [],
   "source": [
    "os.system('cd data && mkdir Split_Data')\n",
    "os.system('cd data/Split_Data && mkdir Train')\n",
    "for idx, train_period in enumerate(Training_ranges[:3]):\n",
    "    train_set = tabularDf.loc[(train_period[0] < tabularDf['date']) & (tabularDf['date'] < train_period[1])].reset_index(drop=True)\n",
    "    train_set.to_csv('data/Split_Data/Train/train_set{:0>2}.csv'.format(idx+1))\n",
    "\n",
    "os.system('cd data/Split_Data && mkdir Test')\n",
    "for idx, test_period in enumerate(Test_ranges[:3]):\n",
    "    test_set = tabularDf.loc[(test_period[0] < tabularDf['date']) & (tabularDf['date'] < test_period[1])].reset_index(drop=True)\n",
    "    test_set.to_csv('data/Split_Data/Test/test_set{:0>2}.csv'.format(idx+1))"
   ]
  },
  {
   "cell_type": "code",
   "execution_count": null,
   "metadata": {},
   "outputs": [],
   "source": [
    "def writeAllFileToZip(absDir, zipFile):\n",
    "    for f in os.listdir(absDir):\n",
    "        absFile=os.path.join(absDir,f) \n",
    "        if os.path.isdir(absFile): \n",
    "            relFile=absFile[len(os.getcwd())+1:] \n",
    "            zipFile.write(relFile) \n",
    "            writeAllFileToZip(absFile,zipFile) \n",
    "        else:\n",
    "            relFile=absFile[len(os.getcwd())+1:]\n",
    "            zipFile.write(relFile)\n",
    "    return\n",
    "    \n",
    "zipFilePath=os.path.join(sys.path[0],\"data/Split_Data.zip\") \n",
    "\n",
    "zipFile=zipfile.ZipFile(zipFilePath, \"w\", zipfile.ZIP_DEFLATED) \n",
    "absDir=os.path.join(sys.path[0],\"data/Split_Data/\") \n",
    "\n",
    "writeAllFileToZip(absDir,zipFile) \n",
    "print(\"Successfully Compressed\")\n"
   ]
  }
 ],
 "metadata": {
  "kernelspec": {
   "display_name": "myconda",
   "language": "python",
   "name": "python3"
  },
  "language_info": {
   "codemirror_mode": {
    "name": "ipython",
    "version": 3
   },
   "file_extension": ".py",
   "mimetype": "text/x-python",
   "name": "python",
   "nbconvert_exporter": "python",
   "pygments_lexer": "ipython3",
   "version": "3.11.2"
  },
  "orig_nbformat": 4
 },
 "nbformat": 4,
 "nbformat_minor": 2
}
