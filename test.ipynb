{
 "cells": [
  {
   "cell_type": "code",
   "execution_count": 1,
   "metadata": {},
   "outputs": [
    {
     "name": "stderr",
     "output_type": "stream",
     "text": [
      "/root/miniconda3/envs/myconda/lib/python3.8/site-packages/tqdm/auto.py:21: TqdmWarning: IProgress not found. Please update jupyter and ipywidgets. See https://ipywidgets.readthedocs.io/en/stable/user_install.html\n",
      "  from .autonotebook import tqdm as notebook_tqdm\n"
     ]
    }
   ],
   "source": [
    "from model import *\n",
    "from train_in_roll import *\n",
    "from dataloader import *\n",
    "from utils import *\n",
    "from collections import OrderedDict"
   ]
  },
  {
   "cell_type": "code",
   "execution_count": 108,
   "metadata": {},
   "outputs": [
    {
     "name": "stdout",
     "output_type": "stream",
     "text": [
      "[Load Data] | 2023-04-15 10:59:43 Done | Using  104.305 seconds\n",
      "TRAIN DataSet Initialized\n",
      " \t - Image Size:   (32, 15)\n",
      " \t - Time Period:  20091231 - 20111231\n",
      " \t - Indicators:   {'MA': [20]}\n",
      " \t - Volume Shown: True\n"
     ]
    },
    {
     "name": "stderr",
     "output_type": "stream",
     "text": [
      "Generating Images: 100%|██████████| 2283/2283 [02:59<00:00, 12.72it/s]\n"
     ]
    }
   ],
   "source": [
    "dataset = ImageDataSet(win_size=5, start_date=20091231, end_date=20111231, mode='train', indicators={'MA':[20]}, show_volume=True)\n",
    "image_set = dataset.generate_images(0.04)"
   ]
  },
  {
   "cell_type": "code",
   "execution_count": 117,
   "metadata": {},
   "outputs": [],
   "source": []
  },
  {
   "cell_type": "code",
   "execution_count": 118,
   "metadata": {},
   "outputs": [],
   "source": [
    "TRIAN_VAL_SPLIT_RATIO = 0.7\n",
    "BATCH_SIZE = 64\n",
    "train_loader_size = int(len(image_set)*TRIAN_VAL_SPLIT_RATIO)\n",
    "torch_loader_size = len(image_set) - train_loader_size\n",
    "\n",
    "train_loader, val_loader = torch.utils.data.random_split(image_set, [train_loader_size, torch_loader_size])\n",
    "train_loader = torch.utils.data.DataLoader(dataset=train_loader, batch_size=BATCH_SIZE, shuffle=True)\n",
    "val_loader = torch.utils.data.DataLoader(dataset=val_loader, batch_size=BATCH_SIZE, shuffle=False)"
   ]
  },
  {
   "cell_type": "code",
   "execution_count": 119,
   "metadata": {},
   "outputs": [],
   "source": [
    "for i, (input, ret1, ret5, ret20) in enumerate(val_loader):\n",
    "    input11 = input\n",
    "    ret11, ret51, ret201 = ret1, ret5, ret20\n",
    "    break"
   ]
  },
  {
   "cell_type": "code",
   "execution_count": 120,
   "metadata": {},
   "outputs": [
    {
     "data": {
      "text/plain": [
       "torch.Size([64, 32, 15])"
      ]
     },
     "execution_count": 120,
     "metadata": {},
     "output_type": "execute_result"
    }
   ],
   "source": [
    "input11.shape"
   ]
  },
  {
   "cell_type": "code",
   "execution_count": 111,
   "metadata": {},
   "outputs": [],
   "source": [
    "class CNN5d(nn.Module):\n",
    "    # input in shape of N*32*15\n",
    "    # output in shape of N*1\n",
    "    # with two conv layers\n",
    "    def __init__(self):\n",
    "        super(CNN5d, self).__init__()\n",
    "        self.conv1 = nn.Sequential(OrderedDict([\n",
    "            ('Conv', nn.Conv2d(1, 64, (5, 3), padding=(2, 1), stride=(1, 1), dilation=(1, 1))), # output size: [N, 64, 32, 15]\n",
    "            ('ReLU', nn.ReLU()),\n",
    "            ('Max-Pool', nn.MaxPool2d((2,1))) # output size: [N, 64, 16, 15]\n",
    "        ]))\n",
    "        self.conv2 = nn.Sequential(OrderedDict([\n",
    "            ('Conv', nn.Conv2d(64, 128, (5, 3), padding=(2, 1), stride=(1, 1), dilation=(1, 1))), # output size: [N, 128, 16, 15]\n",
    "            ('ReLU', nn.ReLU()),\n",
    "            ('Max-Pool', nn.MaxPool2d((2,1))) # output size: [N, 128, 8, 15]\n",
    "        ]))\n",
    "\n",
    "        self.FC = nn.Linear(15360, 2)\n",
    "        self.Softmax = nn.Softmax(dim=1)\n",
    "\n",
    "    def forward(self, x):\n",
    "        # input: N * 32 * 15\n",
    "        x = x.unsqueeze(1).to(torch.float32)   # output size: [N, 1, 32, 15]\n",
    "        x = self.conv1(x) # output size: [N, 64, 16, 15]\n",
    "        x = self.conv2(x) # output size: [N, 128, 8, 15]\n",
    "        x = self.FC(x.view(x.shape[0], -1)) # output size: [N, 2]\n",
    "        x = self.Softmax(x)\n",
    "        \n",
    "        return x"
   ]
  },
  {
   "cell_type": "code",
   "execution_count": 112,
   "metadata": {},
   "outputs": [
    {
     "data": {
      "text/plain": [
       "CNN5d(\n",
       "  (conv1): Sequential(\n",
       "    (Conv): Conv2d(1, 64, kernel_size=(5, 3), stride=(1, 1), padding=(2, 1))\n",
       "    (ReLU): ReLU()\n",
       "    (Max-Pool): MaxPool2d(kernel_size=(2, 1), stride=(2, 1), padding=0, dilation=1, ceil_mode=False)\n",
       "  )\n",
       "  (conv2): Sequential(\n",
       "    (Conv): Conv2d(64, 128, kernel_size=(5, 3), stride=(1, 1), padding=(2, 1))\n",
       "    (ReLU): ReLU()\n",
       "    (Max-Pool): MaxPool2d(kernel_size=(2, 1), stride=(2, 1), padding=0, dilation=1, ceil_mode=False)\n",
       "  )\n",
       "  (FC): Linear(in_features=15360, out_features=2, bias=True)\n",
       "  (Softmax): Softmax(dim=1)\n",
       ")"
      ]
     },
     "execution_count": 112,
     "metadata": {},
     "output_type": "execute_result"
    }
   ],
   "source": [
    "model5 = CNN5d()\n",
    "model5"
   ]
  },
  {
   "cell_type": "code",
   "execution_count": 92,
   "metadata": {},
   "outputs": [],
   "source": [
    "conv1 = nn.Conv2d(1, 64, (5, 3), padding=(3, 1), stride=(3, 1), dilation=(2, 1))\n",
    "conv2 = nn.Conv2d(64, 128, (5, 3), padding=(3, 1), stride=(1, 1), dilation=(1, 1))\n",
    "conv3 = nn.Conv2d(128, 256, (5, 3), padding=(2, 1), stride=(1, 1), dilation=(1, 1))\n",
    "fc1 = nn.Linear(46080, 2)"
   ]
  },
  {
   "cell_type": "code",
   "execution_count": 24,
   "metadata": {},
   "outputs": [
    {
     "data": {
      "text/plain": [
       "torch.Size([64, 64, 60])"
      ]
     },
     "execution_count": 24,
     "metadata": {},
     "output_type": "execute_result"
    }
   ],
   "source": [
    "input1.shape"
   ]
  },
  {
   "cell_type": "code",
   "execution_count": 62,
   "metadata": {},
   "outputs": [
    {
     "data": {
      "text/plain": [
       "torch.Size([64, 1, 64, 60])"
      ]
     },
     "execution_count": 62,
     "metadata": {},
     "output_type": "execute_result"
    }
   ],
   "source": [
    "input.unsqueeze(1).shape"
   ]
  },
  {
   "cell_type": "code",
   "execution_count": 93,
   "metadata": {},
   "outputs": [
    {
     "name": "stdout",
     "output_type": "stream",
     "text": [
      "torch.Size([64, 64, 21, 60])\n",
      "torch.Size([64, 64, 10, 60])\n",
      "torch.Size([64, 128, 12, 60])\n",
      "torch.Size([64, 128, 6, 60])\n",
      "torch.Size([64, 256, 6, 60])\n",
      "torch.Size([64, 256, 3, 60])\n"
     ]
    }
   ],
   "source": [
    "out = conv1(input.unsqueeze(1).to(torch.float32))\n",
    "print(out.shape)\n",
    "\n",
    "out = F.max_pool2d(out, (2, 1))\n",
    "print(out.shape)\n",
    "\n",
    "out = conv2(out)\n",
    "print(out.shape)\n",
    "\n",
    "out = F.max_pool2d(out, (2, 1))\n",
    "print(out.shape)\n",
    "\n",
    "out = conv3(out)\n",
    "print(out.shape)\n",
    "\n",
    "out = F.max_pool2d(out, (2, 1))\n",
    "print(out.shape)"
   ]
  },
  {
   "cell_type": "code",
   "execution_count": 102,
   "metadata": {},
   "outputs": [
    {
     "data": {
      "text/plain": [
       "torch.Size([64, 46080])"
      ]
     },
     "execution_count": 102,
     "metadata": {},
     "output_type": "execute_result"
    }
   ],
   "source": [
    "out.view(out.shape[0], -1).shape"
   ]
  },
  {
   "cell_type": "code",
   "execution_count": 107,
   "metadata": {},
   "outputs": [],
   "source": [
    "class CNN20d(nn.Module):\n",
    "    # input in shape of N*64*60\n",
    "    # output in shape of N*1\n",
    "    # with 3 conv layers\n",
    "    def __init__(self):\n",
    "        super(CNN20d, self).__init__()\n",
    "        self.conv1 = nn.Sequential(OrderedDict([\n",
    "            ('Conv', nn.Conv2d(1, 64, (5, 3), padding=(3, 1), stride=(3, 1), dilation=(2, 1))), # output size: [N, 64, 21, 60]\n",
    "            ('ReLU', nn.ReLU()),\n",
    "            ('Max-Pool', nn.MaxPool2d((2,1))) # output size: [N, 64, 10, 60]\n",
    "        ]))\n",
    "        self.conv2 = nn.Sequential(OrderedDict([\n",
    "            ('Conv', nn.Conv2d(64, 128, (5, 3), padding=(3, 1), stride=(1, 1), dilation=(1, 1))), # output size: [N, 128, 12, 60]\n",
    "            ('ReLU', nn.ReLU()),\n",
    "            ('Max-Pool', nn.MaxPool2d((2,1))) # output size: [N, 128, 6, 60]\n",
    "        ]))\n",
    "        self.conv3 = nn.Sequential(OrderedDict([\n",
    "            ('Conv', nn.Conv2d(128, 256, (5, 3), padding=(2, 1), stride=(1, 1), dilation=(1, 1))), # output size: [N, 256, 6, 60]\n",
    "            ('ReLU', nn.ReLU()),\n",
    "            ('Max-Pool', nn.MaxPool2d((2,1))) # output size: [N, 256, 3, 60]\n",
    "        ]))\n",
    "\n",
    "        self.FC = nn.Linear(46080, 2)\n",
    "        self.Softmax = nn.Softmax(dim=1)\n",
    "\n",
    "    def forward(self, x):\n",
    "        # input: N * 64 * 60\n",
    "        x = x.unsqueeze(1).to(torch.float32)   # output size: [N, 1, 64, 60]\n",
    "        x = self.conv1(x) # output size: [N, 64, 10, 60]\n",
    "        x = self.conv2(x) # output size: [N, 128, 6, 60]\n",
    "        x = self.conv3(x) # output size: [N, 256, 3, 60]\n",
    "        x = self.FC(x.view(x.shape[0], -1)) # output size: [N, 2]\n",
    "        x = self.Softmax(x)\n",
    "        \n",
    "        return x"
   ]
  },
  {
   "cell_type": "code",
   "execution_count": 104,
   "metadata": {},
   "outputs": [],
   "source": [
    "model20 = CNN20d()"
   ]
  },
  {
   "cell_type": "code",
   "execution_count": null,
   "metadata": {},
   "outputs": [],
   "source": [
    "roll = [((20091231, 20111231), (20111231, 20121231))]\n",
    "models = [CNN20d().to('cuda'),CNN20d().to('cuda'),CNN20d().to('cuda')]\n",
    "train_model(models, train_loader, val_loader, num_epochs=10, learning_rate=0.001, batch_size=32, device='cuda' , weight_decay=0.0)"
   ]
  }
 ],
 "metadata": {
  "kernelspec": {
   "display_name": "Python 3",
   "language": "python",
   "name": "python3"
  },
  "language_info": {
   "codemirror_mode": {
    "name": "ipython",
    "version": 3
   },
   "file_extension": ".py",
   "mimetype": "text/x-python",
   "name": "python",
   "nbconvert_exporter": "python",
   "pygments_lexer": "ipython3",
   "version": "3.8.12"
  },
  "orig_nbformat": 4
 },
 "nbformat": 4,
 "nbformat_minor": 2
}
