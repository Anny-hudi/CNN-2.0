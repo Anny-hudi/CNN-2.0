{
 "cells": [
  {
   "cell_type": "code",
   "execution_count": 1,
   "metadata": {},
   "outputs": [],
   "source": [
    "from model import *\n",
    "from train_in_roll import *\n",
    "from dataloader import *"
   ]
  },
  {
   "cell_type": "code",
   "execution_count": 2,
   "metadata": {},
   "outputs": [
    {
     "name": "stdout",
     "output_type": "stream",
     "text": [
      "[Load Data] | 2023-04-15 15:53:51 Done | Using  6.408 seconds\n",
      "TRAIN DataSet Initialized\n",
      " \t - Image Size:   (64, 60)\n",
      " \t - Time Period:  20091231 - 20111231\n",
      " \t - Indicators:   {'MA': [20]}\n",
      " \t - Volume Shown: True\n"
     ]
    },
    {
     "name": "stderr",
     "output_type": "stream",
     "text": [
      "Generating Images: 100%|██████████| 2283/2283 [00:41<00:00, 54.96it/s] \n"
     ]
    }
   ],
   "source": [
    "dataset = ImageDataSet(win_size=20, start_date=20091231, end_date=20111231, mode='train', indicators={'MA':[20]}, show_volume=True).generate_images(0.04)"
   ]
  },
  {
   "cell_type": "code",
   "execution_count": 3,
   "metadata": {},
   "outputs": [],
   "source": [
    "#test_dataset = ImageDataSet(win_size=20, start_date=20111231, end_date=20121231, mode='train', indicators={'MA':[20]}, show_volume=True).generate_images(0.04)"
   ]
  },
  {
   "cell_type": "code",
   "execution_count": 4,
   "metadata": {},
   "outputs": [],
   "source": [
    "train_len = int(len(dataset) * (1 - 0.2))\n",
    "val_len = int(len(dataset)) - train_len\n",
    "train_loader, val_loader = torch.utils.data.random_split(dataset, [train_len, val_len])\n",
    "train_loader = torch.utils.data.DataLoader(dataset=train_loader, batch_size=32, shuffle=True)\n",
    "val_loader = torch.utils.data.DataLoader(dataset=val_loader, batch_size=32, shuffle=False)\n",
    "# test_loader = torch.utils.data.DataLoader(dataset=test_dataset, batch_size=32, shuffle=False)"
   ]
  },
  {
   "cell_type": "code",
   "execution_count": 5,
   "metadata": {},
   "outputs": [
    {
     "name": "stdout",
     "output_type": "stream",
     "text": [
      "tensor([[[  0., 255.,   0.,  ...,   0., 255.,   0.],\n",
      "         [  0., 255.,   0.,  ...,   0., 255.,   0.],\n",
      "         [  0., 255.,   0.,  ...,   0., 255.,   0.],\n",
      "         ...,\n",
      "         [  0.,   0.,   0.,  ...,   0.,   0.,   0.],\n",
      "         [  0.,   0.,   0.,  ...,   0.,   0.,   0.],\n",
      "         [255., 255.,   0.,  ...,   0.,   0.,   0.]],\n",
      "\n",
      "        [[  0., 255.,   0.,  ...,   0., 255.,   0.],\n",
      "         [  0., 255.,   0.,  ...,   0., 255.,   0.],\n",
      "         [  0., 255.,   0.,  ...,   0., 255.,   0.],\n",
      "         ...,\n",
      "         [  0.,   0.,   0.,  ...,   0.,   0.,   0.],\n",
      "         [  0.,   0.,   0.,  ...,   0.,   0.,   0.],\n",
      "         [  0.,   0.,   0.,  ...,   0.,   0.,   0.]],\n",
      "\n",
      "        [[  0., 255.,   0.,  ...,   0., 255.,   0.],\n",
      "         [  0., 255.,   0.,  ...,   0., 255.,   0.],\n",
      "         [  0., 255.,   0.,  ...,   0., 255.,   0.],\n",
      "         ...,\n",
      "         [  0.,   0.,   0.,  ...,   0.,   0.,   0.],\n",
      "         [  0.,   0.,   0.,  ...,   0.,   0.,   0.],\n",
      "         [255., 255.,   0.,  ...,   0.,   0.,   0.]],\n",
      "\n",
      "        ...,\n",
      "\n",
      "        [[  0., 255.,   0.,  ...,   0.,   0.,   0.],\n",
      "         [  0.,   0.,   0.,  ...,   0.,   0.,   0.],\n",
      "         [  0.,   0.,   0.,  ...,   0.,   0.,   0.],\n",
      "         ...,\n",
      "         [  0.,   0.,   0.,  ...,   0.,   0.,   0.],\n",
      "         [  0.,   0.,   0.,  ...,   0.,   0.,   0.],\n",
      "         [  0.,   0.,   0.,  ...,   0.,   0.,   0.]],\n",
      "\n",
      "        [[  0., 255.,   0.,  ...,   0., 255.,   0.],\n",
      "         [  0., 255.,   0.,  ...,   0., 255.,   0.],\n",
      "         [  0., 255.,   0.,  ...,   0., 255.,   0.],\n",
      "         ...,\n",
      "         [  0.,   0.,   0.,  ...,   0., 255.,   0.],\n",
      "         [  0.,   0.,   0.,  ...,   0., 255.,   0.],\n",
      "         [  0.,   0.,   0.,  ...,   0.,   0.,   0.]],\n",
      "\n",
      "        [[  0.,   0.,   0.,  ...,   0., 255.,   0.],\n",
      "         [  0.,   0.,   0.,  ...,   0., 255.,   0.],\n",
      "         [  0.,   0.,   0.,  ...,   0., 255.,   0.],\n",
      "         ...,\n",
      "         [  0.,   0.,   0.,  ...,   0.,   0.,   0.],\n",
      "         [  0.,   0.,   0.,  ...,   0.,   0.,   0.],\n",
      "         [  0.,   0.,   0.,  ...,   0.,   0.,   0.]]], dtype=torch.float64) tensor([1, 1, 1, 1, 1, 0, 1, 1, 0, 1, 0, 0, 1, 1, 0, 0, 1, 0, 0, 0, 0, 0, 1, 0,\n",
      "        0, 1, 1, 0, 1, 1, 0, 0]) tensor([0, 1, 1, 0, 1, 0, 1, 0, 0, 1, 0, 0, 0, 0, 1, 0, 1, 1, 0, 0, 0, 0, 0, 1,\n",
      "        0, 0, 0, 0, 1, 1, 0, 1]) tensor([0, 0, 0, 0, 1, 0, 1, 0, 0, 1, 0, 0, 1, 1, 1, 0, 0, 0, 0, 0, 0, 0, 0, 1,\n",
      "        0, 0, 1, 0, 1, 0, 0, 0])\n",
      "torch.Size([32, 1, 64, 60])\n",
      "torch.Size([32, 64, 62, 58])\n",
      "torch.Size([32, 64, 31, 58])\n",
      "torch.Size([32, 128, 29, 56])\n",
      "torch.Size([32, 128, 14, 56])\n",
      "torch.Size([32, 256, 12, 54])\n",
      "torch.Size([32, 256, 6, 54])\n",
      "before view:  torch.Size([32, 256, 6, 54])\n",
      "torch.Size([32, 82944])\n"
     ]
    },
    {
     "ename": "RuntimeError",
     "evalue": "mat1 and mat2 shapes cannot be multiplied (32x82944 and 46080x2)",
     "output_type": "error",
     "traceback": [
      "\u001b[1;31m---------------------------------------------------------------------------\u001b[0m",
      "\u001b[1;31mRuntimeError\u001b[0m                              Traceback (most recent call last)",
      "Cell \u001b[1;32mIn[5], line 3\u001b[0m\n\u001b[0;32m      1\u001b[0m roll \u001b[39m=\u001b[39m [((\u001b[39m20091231\u001b[39m, \u001b[39m20111231\u001b[39m), (\u001b[39m20111231\u001b[39m, \u001b[39m20121231\u001b[39m))]\n\u001b[0;32m      2\u001b[0m models \u001b[39m=\u001b[39m [CNN20d()\u001b[39m.\u001b[39mto(\u001b[39m'\u001b[39m\u001b[39mcuda\u001b[39m\u001b[39m'\u001b[39m),CNN20d()\u001b[39m.\u001b[39mto(\u001b[39m'\u001b[39m\u001b[39mcuda\u001b[39m\u001b[39m'\u001b[39m),CNN20d()\u001b[39m.\u001b[39mto(\u001b[39m'\u001b[39m\u001b[39mcuda\u001b[39m\u001b[39m'\u001b[39m)]\n\u001b[1;32m----> 3\u001b[0m train_model(models, train_loader, val_loader, num_epochs\u001b[39m=\u001b[39;49m\u001b[39m10\u001b[39;49m, learning_rate\u001b[39m=\u001b[39;49m\u001b[39m0.001\u001b[39;49m, batch_size\u001b[39m=\u001b[39;49m\u001b[39m32\u001b[39;49m, device\u001b[39m=\u001b[39;49m\u001b[39m'\u001b[39;49m\u001b[39mcuda\u001b[39;49m\u001b[39m'\u001b[39;49m , weight_decay\u001b[39m=\u001b[39;49m\u001b[39m0.0\u001b[39;49m)\n",
      "File \u001b[1;32md:\\Homeworks\\DL\\proj1\\model.py:97\u001b[0m, in \u001b[0;36mtrain_model\u001b[1;34m(models, train_loader, val_loader, num_epochs, learning_rate, batch_size, device, weight_decay)\u001b[0m\n\u001b[0;32m     95\u001b[0m optimizer_5\u001b[39m.\u001b[39mzero_grad()\n\u001b[0;32m     96\u001b[0m optimizer_20\u001b[39m.\u001b[39mzero_grad()\n\u001b[1;32m---> 97\u001b[0m outputs_1 \u001b[39m=\u001b[39m models[\u001b[39m0\u001b[39;49m](inputs)\n\u001b[0;32m     98\u001b[0m outputs_5 \u001b[39m=\u001b[39m models[\u001b[39m1\u001b[39m](inputs)\n\u001b[0;32m     99\u001b[0m outputs_20 \u001b[39m=\u001b[39m models[\u001b[39m2\u001b[39m](inputs)\n",
      "File \u001b[1;32m~\\AppData\\Roaming\\Python\\Python310\\site-packages\\torch\\nn\\modules\\module.py:1501\u001b[0m, in \u001b[0;36mModule._call_impl\u001b[1;34m(self, *args, **kwargs)\u001b[0m\n\u001b[0;32m   1496\u001b[0m \u001b[39m# If we don't have any hooks, we want to skip the rest of the logic in\u001b[39;00m\n\u001b[0;32m   1497\u001b[0m \u001b[39m# this function, and just call forward.\u001b[39;00m\n\u001b[0;32m   1498\u001b[0m \u001b[39mif\u001b[39;00m \u001b[39mnot\u001b[39;00m (\u001b[39mself\u001b[39m\u001b[39m.\u001b[39m_backward_hooks \u001b[39mor\u001b[39;00m \u001b[39mself\u001b[39m\u001b[39m.\u001b[39m_backward_pre_hooks \u001b[39mor\u001b[39;00m \u001b[39mself\u001b[39m\u001b[39m.\u001b[39m_forward_hooks \u001b[39mor\u001b[39;00m \u001b[39mself\u001b[39m\u001b[39m.\u001b[39m_forward_pre_hooks\n\u001b[0;32m   1499\u001b[0m         \u001b[39mor\u001b[39;00m _global_backward_pre_hooks \u001b[39mor\u001b[39;00m _global_backward_hooks\n\u001b[0;32m   1500\u001b[0m         \u001b[39mor\u001b[39;00m _global_forward_hooks \u001b[39mor\u001b[39;00m _global_forward_pre_hooks):\n\u001b[1;32m-> 1501\u001b[0m     \u001b[39mreturn\u001b[39;00m forward_call(\u001b[39m*\u001b[39margs, \u001b[39m*\u001b[39m\u001b[39m*\u001b[39mkwargs)\n\u001b[0;32m   1502\u001b[0m \u001b[39m# Do not call functions when jit is used\u001b[39;00m\n\u001b[0;32m   1503\u001b[0m full_backward_hooks, non_full_backward_hooks \u001b[39m=\u001b[39m [], []\n",
      "File \u001b[1;32md:\\Homeworks\\DL\\proj1\\model.py:71\u001b[0m, in \u001b[0;36mCNN20d.forward\u001b[1;34m(self, x)\u001b[0m\n\u001b[0;32m     69\u001b[0m x \u001b[39m=\u001b[39m x\u001b[39m.\u001b[39mview(x\u001b[39m.\u001b[39mshape[\u001b[39m0\u001b[39m], \u001b[39m-\u001b[39m\u001b[39m1\u001b[39m)       \u001b[39m# output: N * 46080\u001b[39;00m\n\u001b[0;32m     70\u001b[0m \u001b[39mprint\u001b[39m(x\u001b[39m.\u001b[39mshape)\n\u001b[1;32m---> 71\u001b[0m x \u001b[39m=\u001b[39m \u001b[39mself\u001b[39;49m\u001b[39m.\u001b[39;49mfc1(x)             \u001b[39m# output: N * 2\u001b[39;00m\n\u001b[0;32m     72\u001b[0m \u001b[39mprint\u001b[39m(x\u001b[39m.\u001b[39mshape)\n\u001b[0;32m     73\u001b[0m x \u001b[39m=\u001b[39m F\u001b[39m.\u001b[39msoftmax(x, dim\u001b[39m=\u001b[39m\u001b[39m1\u001b[39m)     \u001b[39m# output: N * 2\u001b[39;00m\n",
      "File \u001b[1;32m~\\AppData\\Roaming\\Python\\Python310\\site-packages\\torch\\nn\\modules\\module.py:1501\u001b[0m, in \u001b[0;36mModule._call_impl\u001b[1;34m(self, *args, **kwargs)\u001b[0m\n\u001b[0;32m   1496\u001b[0m \u001b[39m# If we don't have any hooks, we want to skip the rest of the logic in\u001b[39;00m\n\u001b[0;32m   1497\u001b[0m \u001b[39m# this function, and just call forward.\u001b[39;00m\n\u001b[0;32m   1498\u001b[0m \u001b[39mif\u001b[39;00m \u001b[39mnot\u001b[39;00m (\u001b[39mself\u001b[39m\u001b[39m.\u001b[39m_backward_hooks \u001b[39mor\u001b[39;00m \u001b[39mself\u001b[39m\u001b[39m.\u001b[39m_backward_pre_hooks \u001b[39mor\u001b[39;00m \u001b[39mself\u001b[39m\u001b[39m.\u001b[39m_forward_hooks \u001b[39mor\u001b[39;00m \u001b[39mself\u001b[39m\u001b[39m.\u001b[39m_forward_pre_hooks\n\u001b[0;32m   1499\u001b[0m         \u001b[39mor\u001b[39;00m _global_backward_pre_hooks \u001b[39mor\u001b[39;00m _global_backward_hooks\n\u001b[0;32m   1500\u001b[0m         \u001b[39mor\u001b[39;00m _global_forward_hooks \u001b[39mor\u001b[39;00m _global_forward_pre_hooks):\n\u001b[1;32m-> 1501\u001b[0m     \u001b[39mreturn\u001b[39;00m forward_call(\u001b[39m*\u001b[39margs, \u001b[39m*\u001b[39m\u001b[39m*\u001b[39mkwargs)\n\u001b[0;32m   1502\u001b[0m \u001b[39m# Do not call functions when jit is used\u001b[39;00m\n\u001b[0;32m   1503\u001b[0m full_backward_hooks, non_full_backward_hooks \u001b[39m=\u001b[39m [], []\n",
      "File \u001b[1;32m~\\AppData\\Roaming\\Python\\Python310\\site-packages\\torch\\nn\\modules\\linear.py:114\u001b[0m, in \u001b[0;36mLinear.forward\u001b[1;34m(self, input)\u001b[0m\n\u001b[0;32m    113\u001b[0m \u001b[39mdef\u001b[39;00m \u001b[39mforward\u001b[39m(\u001b[39mself\u001b[39m, \u001b[39minput\u001b[39m: Tensor) \u001b[39m-\u001b[39m\u001b[39m>\u001b[39m Tensor:\n\u001b[1;32m--> 114\u001b[0m     \u001b[39mreturn\u001b[39;00m F\u001b[39m.\u001b[39;49mlinear(\u001b[39minput\u001b[39;49m, \u001b[39mself\u001b[39;49m\u001b[39m.\u001b[39;49mweight, \u001b[39mself\u001b[39;49m\u001b[39m.\u001b[39;49mbias)\n",
      "\u001b[1;31mRuntimeError\u001b[0m: mat1 and mat2 shapes cannot be multiplied (32x82944 and 46080x2)"
     ]
    }
   ],
   "source": [
    "roll = [((20091231, 20111231), (20111231, 20121231))]\n",
    "models = [CNN20d().to('cuda'),CNN20d().to('cuda'),CNN20d().to('cuda')]\n",
    "train_model(models, train_loader, val_loader, num_epochs=10, learning_rate=0.001, batch_size=32, device='cuda' , weight_decay=0.0)"
   ]
  }
 ],
 "metadata": {
  "kernelspec": {
   "display_name": "Python 3",
   "language": "python",
   "name": "python3"
  },
  "language_info": {
   "codemirror_mode": {
    "name": "ipython",
    "version": 3
   },
   "file_extension": ".py",
   "mimetype": "text/x-python",
   "name": "python",
   "nbconvert_exporter": "python",
   "pygments_lexer": "ipython3",
   "version": "3.10.7"
  },
  "orig_nbformat": 4
 },
 "nbformat": 4,
 "nbformat_minor": 2
}
